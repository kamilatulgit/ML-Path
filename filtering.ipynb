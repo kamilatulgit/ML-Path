{
  "cells": [
    {
      "cell_type": "markdown",
      "metadata": {
        "id": "SixGOwsv-YZS"
      },
      "source": [
        "# SYSTEM REKOMENDASI PARIWISATA. Colaborative Filtering"
      ]
    },
    {
      "cell_type": "markdown",
      "metadata": {
        "id": "FuNf_cCS_G3r"
      },
      "source": [
        "## Import Library"
      ]
    },
    {
      "cell_type": "code",
      "execution_count": null,
      "metadata": {
        "id": "gFYkrfgp9ACl"
      },
      "outputs": [],
      "source": [
        "# Untuk mengupload file\n",
        "import os\n",
        "\n",
        "# Untuk mengolah dataset\n",
        "import pandas as pd\n",
        "import numpy as np\n",
        "from zipfile import ZipFile\n",
        "from pathlib import Path\n",
        "\n",
        "# Untuk visualisasi data\n",
        "import seaborn as sns\n",
        "import matplotlib.pyplot as plt\n",
        "%matplotlib inline\n",
        "sns.set_palette('Set1')\n",
        "sns.set()\n",
        "\n",
        "# Untuk pemodelan\n",
        "import tensorflow as tf\n",
        "from tensorflow import keras\n",
        "from tensorflow.keras import layers\n",
        "from keras.layers import Concatenate\n",
        "from keras.layers import Dense\n",
        "from keras.layers import Dropout\n",
        "from keras.layers import BatchNormalization\n",
        "from keras.models import Sequential\n",
        "from keras.layers import Dense\n",
        "from keras.models import model_from_json\n",
        "\n",
        "# Untuk Load Model\n",
        "from tensorflow.keras.models import load_model\n",
        "import joblib\n",
        "\n",
        "# Untuk menghilangkan warnings saat plotting seaborn\n",
        "import warnings\n",
        "warnings.filterwarnings('ignore')\n",
        "\n"
      ]
    },
    {
      "cell_type": "markdown",
      "metadata": {
        "id": "wcEZOVG7_tm1"
      },
      "source": [
        "## Load Dataset\n"
      ]
    },
    {
      "cell_type": "markdown",
      "metadata": {
        "id": "FpbYNQwYCY-6"
      },
      "source": [
        "### Upload File CSV jika ada dataset baru"
      ]
    },
    {
      "cell_type": "code",
      "execution_count": null,
      "metadata": {
        "colab": {
          "base_uri": "https://localhost:8080/",
          "height": 144
        },
        "id": "FrLcQ90WB3Bi",
        "outputId": "50c1a0fa-c880-4236-c5eb-80bdce898a22"
      },
      "outputs": [
        {
          "output_type": "display_data",
          "data": {
            "text/plain": [
              "<IPython.core.display.HTML object>"
            ],
            "text/html": [
              "\n",
              "     <input type=\"file\" id=\"files-1f901791-ca3b-40a9-9cf9-c5592ff55c76\" name=\"files[]\" multiple disabled\n",
              "        style=\"border:none\" />\n",
              "     <output id=\"result-1f901791-ca3b-40a9-9cf9-c5592ff55c76\">\n",
              "      Upload widget is only available when the cell has been executed in the\n",
              "      current browser session. Please rerun this cell to enable.\n",
              "      </output>\n",
              "      <script>// Copyright 2017 Google LLC\n",
              "//\n",
              "// Licensed under the Apache License, Version 2.0 (the \"License\");\n",
              "// you may not use this file except in compliance with the License.\n",
              "// You may obtain a copy of the License at\n",
              "//\n",
              "//      http://www.apache.org/licenses/LICENSE-2.0\n",
              "//\n",
              "// Unless required by applicable law or agreed to in writing, software\n",
              "// distributed under the License is distributed on an \"AS IS\" BASIS,\n",
              "// WITHOUT WARRANTIES OR CONDITIONS OF ANY KIND, either express or implied.\n",
              "// See the License for the specific language governing permissions and\n",
              "// limitations under the License.\n",
              "\n",
              "/**\n",
              " * @fileoverview Helpers for google.colab Python module.\n",
              " */\n",
              "(function(scope) {\n",
              "function span(text, styleAttributes = {}) {\n",
              "  const element = document.createElement('span');\n",
              "  element.textContent = text;\n",
              "  for (const key of Object.keys(styleAttributes)) {\n",
              "    element.style[key] = styleAttributes[key];\n",
              "  }\n",
              "  return element;\n",
              "}\n",
              "\n",
              "// Max number of bytes which will be uploaded at a time.\n",
              "const MAX_PAYLOAD_SIZE = 100 * 1024;\n",
              "\n",
              "function _uploadFiles(inputId, outputId) {\n",
              "  const steps = uploadFilesStep(inputId, outputId);\n",
              "  const outputElement = document.getElementById(outputId);\n",
              "  // Cache steps on the outputElement to make it available for the next call\n",
              "  // to uploadFilesContinue from Python.\n",
              "  outputElement.steps = steps;\n",
              "\n",
              "  return _uploadFilesContinue(outputId);\n",
              "}\n",
              "\n",
              "// This is roughly an async generator (not supported in the browser yet),\n",
              "// where there are multiple asynchronous steps and the Python side is going\n",
              "// to poll for completion of each step.\n",
              "// This uses a Promise to block the python side on completion of each step,\n",
              "// then passes the result of the previous step as the input to the next step.\n",
              "function _uploadFilesContinue(outputId) {\n",
              "  const outputElement = document.getElementById(outputId);\n",
              "  const steps = outputElement.steps;\n",
              "\n",
              "  const next = steps.next(outputElement.lastPromiseValue);\n",
              "  return Promise.resolve(next.value.promise).then((value) => {\n",
              "    // Cache the last promise value to make it available to the next\n",
              "    // step of the generator.\n",
              "    outputElement.lastPromiseValue = value;\n",
              "    return next.value.response;\n",
              "  });\n",
              "}\n",
              "\n",
              "/**\n",
              " * Generator function which is called between each async step of the upload\n",
              " * process.\n",
              " * @param {string} inputId Element ID of the input file picker element.\n",
              " * @param {string} outputId Element ID of the output display.\n",
              " * @return {!Iterable<!Object>} Iterable of next steps.\n",
              " */\n",
              "function* uploadFilesStep(inputId, outputId) {\n",
              "  const inputElement = document.getElementById(inputId);\n",
              "  inputElement.disabled = false;\n",
              "\n",
              "  const outputElement = document.getElementById(outputId);\n",
              "  outputElement.innerHTML = '';\n",
              "\n",
              "  const pickedPromise = new Promise((resolve) => {\n",
              "    inputElement.addEventListener('change', (e) => {\n",
              "      resolve(e.target.files);\n",
              "    });\n",
              "  });\n",
              "\n",
              "  const cancel = document.createElement('button');\n",
              "  inputElement.parentElement.appendChild(cancel);\n",
              "  cancel.textContent = 'Cancel upload';\n",
              "  const cancelPromise = new Promise((resolve) => {\n",
              "    cancel.onclick = () => {\n",
              "      resolve(null);\n",
              "    };\n",
              "  });\n",
              "\n",
              "  // Wait for the user to pick the files.\n",
              "  const files = yield {\n",
              "    promise: Promise.race([pickedPromise, cancelPromise]),\n",
              "    response: {\n",
              "      action: 'starting',\n",
              "    }\n",
              "  };\n",
              "\n",
              "  cancel.remove();\n",
              "\n",
              "  // Disable the input element since further picks are not allowed.\n",
              "  inputElement.disabled = true;\n",
              "\n",
              "  if (!files) {\n",
              "    return {\n",
              "      response: {\n",
              "        action: 'complete',\n",
              "      }\n",
              "    };\n",
              "  }\n",
              "\n",
              "  for (const file of files) {\n",
              "    const li = document.createElement('li');\n",
              "    li.append(span(file.name, {fontWeight: 'bold'}));\n",
              "    li.append(span(\n",
              "        `(${file.type || 'n/a'}) - ${file.size} bytes, ` +\n",
              "        `last modified: ${\n",
              "            file.lastModifiedDate ? file.lastModifiedDate.toLocaleDateString() :\n",
              "                                    'n/a'} - `));\n",
              "    const percent = span('0% done');\n",
              "    li.appendChild(percent);\n",
              "\n",
              "    outputElement.appendChild(li);\n",
              "\n",
              "    const fileDataPromise = new Promise((resolve) => {\n",
              "      const reader = new FileReader();\n",
              "      reader.onload = (e) => {\n",
              "        resolve(e.target.result);\n",
              "      };\n",
              "      reader.readAsArrayBuffer(file);\n",
              "    });\n",
              "    // Wait for the data to be ready.\n",
              "    let fileData = yield {\n",
              "      promise: fileDataPromise,\n",
              "      response: {\n",
              "        action: 'continue',\n",
              "      }\n",
              "    };\n",
              "\n",
              "    // Use a chunked sending to avoid message size limits. See b/62115660.\n",
              "    let position = 0;\n",
              "    do {\n",
              "      const length = Math.min(fileData.byteLength - position, MAX_PAYLOAD_SIZE);\n",
              "      const chunk = new Uint8Array(fileData, position, length);\n",
              "      position += length;\n",
              "\n",
              "      const base64 = btoa(String.fromCharCode.apply(null, chunk));\n",
              "      yield {\n",
              "        response: {\n",
              "          action: 'append',\n",
              "          file: file.name,\n",
              "          data: base64,\n",
              "        },\n",
              "      };\n",
              "\n",
              "      let percentDone = fileData.byteLength === 0 ?\n",
              "          100 :\n",
              "          Math.round((position / fileData.byteLength) * 100);\n",
              "      percent.textContent = `${percentDone}% done`;\n",
              "\n",
              "    } while (position < fileData.byteLength);\n",
              "  }\n",
              "\n",
              "  // All done.\n",
              "  yield {\n",
              "    response: {\n",
              "      action: 'complete',\n",
              "    }\n",
              "  };\n",
              "}\n",
              "\n",
              "scope.google = scope.google || {};\n",
              "scope.google.colab = scope.google.colab || {};\n",
              "scope.google.colab._files = {\n",
              "  _uploadFiles,\n",
              "  _uploadFilesContinue,\n",
              "};\n",
              "})(self);\n",
              "</script> "
            ]
          },
          "metadata": {}
        },
        {
          "output_type": "stream",
          "name": "stdout",
          "text": [
            "Saving dataset_lokasi.csv to dataset_lokasi.csv\n",
            "Saving dataset_rating.csv to dataset_rating.csv\n",
            "Saving dataset_user.csv to dataset_user.csv\n"
          ]
        }
      ],
      "source": [
        "from google.colab import files\n",
        "\n",
        "uploaded = files.upload()"
      ]
    },
    {
      "cell_type": "code",
      "execution_count": null,
      "metadata": {
        "id": "tQDANpJY9Wn0"
      },
      "outputs": [],
      "source": [
        "# Load\n",
        "import pandas as pd\n",
        "\n",
        "# tourism = pd.read_csv('bigdata.csv', encoding='utf-8')\n",
        "rating = pd.read_csv('dataset_rating.csv')\n",
        "place = pd.read_csv('dataset_lokasi.csv')\n",
        "user = pd.read_csv('dataset_user.csv')"
      ]
    },
    {
      "cell_type": "markdown",
      "metadata": {
        "id": "W98YJ4lLAXnY"
      },
      "source": [
        "## Data Exploring\n",
        "\n",
        "*   List item\n",
        "*   List item\n",
        "\n"
      ]
    },
    {
      "cell_type": "code",
      "execution_count": null,
      "metadata": {
        "colab": {
          "base_uri": "https://localhost:8080/"
        },
        "id": "G94q3rAg9Y-h",
        "outputId": "efdbc240-32b7-48fa-8de0-a4e0ab4b6e29"
      },
      "outputs": [
        {
          "name": "stdout",
          "output_type": "stream",
          "text": [
            "Data duplikat : \n",
            "Empty DataFrame\n",
            "Columns: [Place_Id, Place_Name, City, Images, Price, Rating, DorN, Coordinate, Lat, Long, Category, Description]\n",
            "Index: []\n"
          ]
        }
      ],
      "source": [
        "#Cek data duplikat jika diperlukan\n",
        "duplicate_rows_df = place[place.duplicated()]\n",
        "print(\"Data duplikat : \")\n",
        "print(duplicate_rows_df)"
      ]
    },
    {
      "cell_type": "markdown",
      "metadata": {
        "id": "Y-LXls3zFrJB"
      },
      "source": [
        "### Eksplorasi Dataset"
      ]
    },
    {
      "cell_type": "markdown",
      "metadata": {
        "id": "W_BU1dqQrEPZ"
      },
      "source": [
        "#### Data Lokasi / Place"
      ]
    },
    {
      "cell_type": "code",
      "execution_count": null,
      "metadata": {
        "colab": {
          "base_uri": "https://localhost:8080/",
          "height": 617
        },
        "id": "YnGSQrei9ZCo",
        "outputId": "d3880294-9c8e-4fd3-cbea-8c19c1207956"
      },
      "outputs": [
        {
          "data": {
            "text/html": [
              "\n",
              "  <div id=\"df-adcfdd4d-86d6-41b3-be28-8b66eac7fd66\">\n",
              "    <div class=\"colab-df-container\">\n",
              "      <div>\n",
              "<style scoped>\n",
              "    .dataframe tbody tr th:only-of-type {\n",
              "        vertical-align: middle;\n",
              "    }\n",
              "\n",
              "    .dataframe tbody tr th {\n",
              "        vertical-align: top;\n",
              "    }\n",
              "\n",
              "    .dataframe thead th {\n",
              "        text-align: right;\n",
              "    }\n",
              "</style>\n",
              "<table border=\"1\" class=\"dataframe\">\n",
              "  <thead>\n",
              "    <tr style=\"text-align: right;\">\n",
              "      <th></th>\n",
              "      <th>Place_Id</th>\n",
              "      <th>Place_Name</th>\n",
              "      <th>City</th>\n",
              "      <th>Images</th>\n",
              "      <th>Price</th>\n",
              "      <th>Rating</th>\n",
              "      <th>DorN</th>\n",
              "      <th>Coordinate</th>\n",
              "      <th>Lat</th>\n",
              "      <th>Long</th>\n",
              "      <th>Category</th>\n",
              "      <th>Description</th>\n",
              "    </tr>\n",
              "  </thead>\n",
              "  <tbody>\n",
              "    <tr>\n",
              "      <th>0</th>\n",
              "      <td>1</td>\n",
              "      <td>Monumen Nasional</td>\n",
              "      <td>Jakarta</td>\n",
              "      <td>https://www.iwarebatik.org/wp-content/uploads/...</td>\n",
              "      <td>20000</td>\n",
              "      <td>4.6</td>\n",
              "      <td>D</td>\n",
              "      <td>{'lat': -6.1753924, 'lng': 106.8271528}</td>\n",
              "      <td>-6.175392</td>\n",
              "      <td>106.827153</td>\n",
              "      <td>Budaya</td>\n",
              "      <td>Monumen Nasional atau yang populer disingkat d...</td>\n",
              "    </tr>\n",
              "    <tr>\n",
              "      <th>1</th>\n",
              "      <td>2</td>\n",
              "      <td>Kota Tua</td>\n",
              "      <td>Jakarta</td>\n",
              "      <td>https://akcdn.detik.net.id/visual/2020/09/01/k...</td>\n",
              "      <td>0</td>\n",
              "      <td>4.6</td>\n",
              "      <td>D</td>\n",
              "      <td>{'lat': -6.137644799999999, 'lng': 106.8171245}</td>\n",
              "      <td>-6.137645</td>\n",
              "      <td>106.817125</td>\n",
              "      <td>Budaya</td>\n",
              "      <td>Kota tua di Jakarta, yang juga bernama Kota Tu...</td>\n",
              "    </tr>\n",
              "    <tr>\n",
              "      <th>2</th>\n",
              "      <td>3</td>\n",
              "      <td>Dunia Fantasi</td>\n",
              "      <td>Jakarta</td>\n",
              "      <td>https://s-light.tiket.photos/t/01E25EBZS3W0FY9...</td>\n",
              "      <td>270000</td>\n",
              "      <td>4.6</td>\n",
              "      <td>N</td>\n",
              "      <td>{'lat': -6.125312399999999, 'lng': 106.8335377}</td>\n",
              "      <td>-6.125312</td>\n",
              "      <td>106.833538</td>\n",
              "      <td>Taman Hiburan</td>\n",
              "      <td>Dunia Fantasi atau disebut juga Dufan adalah t...</td>\n",
              "    </tr>\n",
              "    <tr>\n",
              "      <th>3</th>\n",
              "      <td>4</td>\n",
              "      <td>Taman Mini Indonesia Indah (TMII)</td>\n",
              "      <td>Jakarta</td>\n",
              "      <td>https://akcdn.detik.net.id/visual/2021/04/08/w...</td>\n",
              "      <td>10000</td>\n",
              "      <td>4.5</td>\n",
              "      <td>D</td>\n",
              "      <td>{'lat': -6.302445899999999, 'lng': 106.8951559}</td>\n",
              "      <td>-6.302446</td>\n",
              "      <td>106.895156</td>\n",
              "      <td>Taman Hiburan</td>\n",
              "      <td>Taman Mini Indonesia Indah merupakan suatu kaw...</td>\n",
              "    </tr>\n",
              "    <tr>\n",
              "      <th>4</th>\n",
              "      <td>5</td>\n",
              "      <td>Atlantis Water Adventure</td>\n",
              "      <td>Jakarta</td>\n",
              "      <td>https://www.ancol.com/shared/images/5d3f526e-5...</td>\n",
              "      <td>94000</td>\n",
              "      <td>4.5</td>\n",
              "      <td>D</td>\n",
              "      <td>{'lat': -6.12419, 'lng': 106.839134}</td>\n",
              "      <td>-6.124190</td>\n",
              "      <td>106.839134</td>\n",
              "      <td>Taman Hiburan</td>\n",
              "      <td>Atlantis Water Adventure atau dikenal dengan A...</td>\n",
              "    </tr>\n",
              "  </tbody>\n",
              "</table>\n",
              "</div>\n",
              "      <button class=\"colab-df-convert\" onclick=\"convertToInteractive('df-adcfdd4d-86d6-41b3-be28-8b66eac7fd66')\"\n",
              "              title=\"Convert this dataframe to an interactive table.\"\n",
              "              style=\"display:none;\">\n",
              "        \n",
              "  <svg xmlns=\"http://www.w3.org/2000/svg\" height=\"24px\"viewBox=\"0 0 24 24\"\n",
              "       width=\"24px\">\n",
              "    <path d=\"M0 0h24v24H0V0z\" fill=\"none\"/>\n",
              "    <path d=\"M18.56 5.44l.94 2.06.94-2.06 2.06-.94-2.06-.94-.94-2.06-.94 2.06-2.06.94zm-11 1L8.5 8.5l.94-2.06 2.06-.94-2.06-.94L8.5 2.5l-.94 2.06-2.06.94zm10 10l.94 2.06.94-2.06 2.06-.94-2.06-.94-.94-2.06-.94 2.06-2.06.94z\"/><path d=\"M17.41 7.96l-1.37-1.37c-.4-.4-.92-.59-1.43-.59-.52 0-1.04.2-1.43.59L10.3 9.45l-7.72 7.72c-.78.78-.78 2.05 0 2.83L4 21.41c.39.39.9.59 1.41.59.51 0 1.02-.2 1.41-.59l7.78-7.78 2.81-2.81c.8-.78.8-2.07 0-2.86zM5.41 20L4 18.59l7.72-7.72 1.47 1.35L5.41 20z\"/>\n",
              "  </svg>\n",
              "      </button>\n",
              "      \n",
              "  <style>\n",
              "    .colab-df-container {\n",
              "      display:flex;\n",
              "      flex-wrap:wrap;\n",
              "      gap: 12px;\n",
              "    }\n",
              "\n",
              "    .colab-df-convert {\n",
              "      background-color: #E8F0FE;\n",
              "      border: none;\n",
              "      border-radius: 50%;\n",
              "      cursor: pointer;\n",
              "      display: none;\n",
              "      fill: #1967D2;\n",
              "      height: 32px;\n",
              "      padding: 0 0 0 0;\n",
              "      width: 32px;\n",
              "    }\n",
              "\n",
              "    .colab-df-convert:hover {\n",
              "      background-color: #E2EBFA;\n",
              "      box-shadow: 0px 1px 2px rgba(60, 64, 67, 0.3), 0px 1px 3px 1px rgba(60, 64, 67, 0.15);\n",
              "      fill: #174EA6;\n",
              "    }\n",
              "\n",
              "    [theme=dark] .colab-df-convert {\n",
              "      background-color: #3B4455;\n",
              "      fill: #D2E3FC;\n",
              "    }\n",
              "\n",
              "    [theme=dark] .colab-df-convert:hover {\n",
              "      background-color: #434B5C;\n",
              "      box-shadow: 0px 1px 3px 1px rgba(0, 0, 0, 0.15);\n",
              "      filter: drop-shadow(0px 1px 2px rgba(0, 0, 0, 0.3));\n",
              "      fill: #FFFFFF;\n",
              "    }\n",
              "  </style>\n",
              "\n",
              "      <script>\n",
              "        const buttonEl =\n",
              "          document.querySelector('#df-adcfdd4d-86d6-41b3-be28-8b66eac7fd66 button.colab-df-convert');\n",
              "        buttonEl.style.display =\n",
              "          google.colab.kernel.accessAllowed ? 'block' : 'none';\n",
              "\n",
              "        async function convertToInteractive(key) {\n",
              "          const element = document.querySelector('#df-adcfdd4d-86d6-41b3-be28-8b66eac7fd66');\n",
              "          const dataTable =\n",
              "            await google.colab.kernel.invokeFunction('convertToInteractive',\n",
              "                                                     [key], {});\n",
              "          if (!dataTable) return;\n",
              "\n",
              "          const docLinkHtml = 'Like what you see? Visit the ' +\n",
              "            '<a target=\"_blank\" href=https://colab.research.google.com/notebooks/data_table.ipynb>data table notebook</a>'\n",
              "            + ' to learn more about interactive tables.';\n",
              "          element.innerHTML = '';\n",
              "          dataTable['output_type'] = 'display_data';\n",
              "          await google.colab.output.renderOutput(dataTable, element);\n",
              "          const docLink = document.createElement('div');\n",
              "          docLink.innerHTML = docLinkHtml;\n",
              "          element.appendChild(docLink);\n",
              "        }\n",
              "      </script>\n",
              "    </div>\n",
              "  </div>\n",
              "  "
            ],
            "text/plain": [
              "   Place_Id                         Place_Name     City  \\\n",
              "0         1                   Monumen Nasional  Jakarta   \n",
              "1         2                           Kota Tua  Jakarta   \n",
              "2         3                      Dunia Fantasi  Jakarta   \n",
              "3         4  Taman Mini Indonesia Indah (TMII)  Jakarta   \n",
              "4         5           Atlantis Water Adventure  Jakarta   \n",
              "\n",
              "                                              Images   Price  Rating DorN  \\\n",
              "0  https://www.iwarebatik.org/wp-content/uploads/...   20000     4.6    D   \n",
              "1  https://akcdn.detik.net.id/visual/2020/09/01/k...       0     4.6    D   \n",
              "2  https://s-light.tiket.photos/t/01E25EBZS3W0FY9...  270000     4.6    N   \n",
              "3  https://akcdn.detik.net.id/visual/2021/04/08/w...   10000     4.5    D   \n",
              "4  https://www.ancol.com/shared/images/5d3f526e-5...   94000     4.5    D   \n",
              "\n",
              "                                        Coordinate       Lat        Long  \\\n",
              "0          {'lat': -6.1753924, 'lng': 106.8271528} -6.175392  106.827153   \n",
              "1  {'lat': -6.137644799999999, 'lng': 106.8171245} -6.137645  106.817125   \n",
              "2  {'lat': -6.125312399999999, 'lng': 106.8335377} -6.125312  106.833538   \n",
              "3  {'lat': -6.302445899999999, 'lng': 106.8951559} -6.302446  106.895156   \n",
              "4             {'lat': -6.12419, 'lng': 106.839134} -6.124190  106.839134   \n",
              "\n",
              "        Category                                        Description  \n",
              "0         Budaya  Monumen Nasional atau yang populer disingkat d...  \n",
              "1         Budaya  Kota tua di Jakarta, yang juga bernama Kota Tu...  \n",
              "2  Taman Hiburan  Dunia Fantasi atau disebut juga Dufan adalah t...  \n",
              "3  Taman Hiburan  Taman Mini Indonesia Indah merupakan suatu kaw...  \n",
              "4  Taman Hiburan  Atlantis Water Adventure atau dikenal dengan A...  "
            ]
          },
          "execution_count": 5,
          "metadata": {},
          "output_type": "execute_result"
        }
      ],
      "source": [
        "place.head()"
      ]
    },
    {
      "cell_type": "code",
      "execution_count": null,
      "metadata": {
        "id": "GXj4MITT9ZFw"
      },
      "outputs": [],
      "source": [
        "# Membuang kolom yang tidak dipakai jika diperlukan\n",
        "\n",
        "#place = place.drop(['NAMA KOLOM'],axis=1)\n",
        "#place.head()"
      ]
    },
    {
      "cell_type": "code",
      "execution_count": null,
      "metadata": {
        "colab": {
          "base_uri": "https://localhost:8080/"
        },
        "id": "9nMkOx4g9ZIg",
        "outputId": "7a76923f-5e9c-42d7-e13e-dc1e1bbd3157"
      },
      "outputs": [
        {
          "data": {
            "text/plain": [
              "Yogyakarta    126\n",
              "Bandung       124\n",
              "Jakarta        84\n",
              "Semarang       57\n",
              "Surabaya       46\n",
              "Name: City, dtype: int64"
            ]
          },
          "execution_count": 7,
          "metadata": {},
          "output_type": "execute_result"
        }
      ],
      "source": [
        "# Cek jumlah tempat wisata pada setiap kota\n",
        "place.City.value_counts(ascending = False)"
      ]
    },
    {
      "cell_type": "markdown",
      "metadata": {
        "id": "pTRx4zoFtvOr"
      },
      "source": [
        "##### Mengubah Kota Tujuan"
      ]
    },
    {
      "cell_type": "code",
      "execution_count": null,
      "metadata": {
        "colab": {
          "base_uri": "https://localhost:8080/",
          "height": 1000
        },
        "id": "cj9NZupx9ZLC",
        "outputId": "02b167c5-e4a5-43dd-8223-efb9f4532887"
      },
      "outputs": [
        {
          "data": {
            "text/html": [
              "\n",
              "  <div id=\"df-6ed3b071-ea8d-4abc-852b-763767cf250f\">\n",
              "    <div class=\"colab-df-container\">\n",
              "      <div>\n",
              "<style scoped>\n",
              "    .dataframe tbody tr th:only-of-type {\n",
              "        vertical-align: middle;\n",
              "    }\n",
              "\n",
              "    .dataframe tbody tr th {\n",
              "        vertical-align: top;\n",
              "    }\n",
              "\n",
              "    .dataframe thead th {\n",
              "        text-align: right;\n",
              "    }\n",
              "</style>\n",
              "<table border=\"1\" class=\"dataframe\">\n",
              "  <thead>\n",
              "    <tr style=\"text-align: right;\">\n",
              "      <th></th>\n",
              "      <th>Place_Id</th>\n",
              "      <th>Place_Name</th>\n",
              "      <th>City</th>\n",
              "      <th>Images</th>\n",
              "      <th>Price</th>\n",
              "      <th>Rating</th>\n",
              "      <th>DorN</th>\n",
              "      <th>Coordinate</th>\n",
              "      <th>Lat</th>\n",
              "      <th>Long</th>\n",
              "      <th>Category</th>\n",
              "      <th>Description</th>\n",
              "    </tr>\n",
              "  </thead>\n",
              "  <tbody>\n",
              "    <tr>\n",
              "      <th>84</th>\n",
              "      <td>85</td>\n",
              "      <td>Taman Pintar Yogyakarta</td>\n",
              "      <td>Yogyakarta</td>\n",
              "      <td>https://moneyinsight-news.com/wp-content/uploa...</td>\n",
              "      <td>6000</td>\n",
              "      <td>4.5</td>\n",
              "      <td>D</td>\n",
              "      <td>{'lat': -7.800671500000001, 'lng': 110.3676551}</td>\n",
              "      <td>-7.800671</td>\n",
              "      <td>110.367655</td>\n",
              "      <td>Taman Hiburan</td>\n",
              "      <td>Taman Pintar Yogyakarta (bahasa Jawa: Hanacara...</td>\n",
              "    </tr>\n",
              "    <tr>\n",
              "      <th>85</th>\n",
              "      <td>86</td>\n",
              "      <td>Keraton Yogyakarta</td>\n",
              "      <td>Yogyakarta</td>\n",
              "      <td>https://anekatempatwisata.com/wp-content/uploa...</td>\n",
              "      <td>15000</td>\n",
              "      <td>4.6</td>\n",
              "      <td>D</td>\n",
              "      <td>{'lat': -7.8052845, 'lng': 110.3642031}</td>\n",
              "      <td>-7.805284</td>\n",
              "      <td>110.364203</td>\n",
              "      <td>Budaya</td>\n",
              "      <td>Keraton Ngayogyakarta Hadiningrat atau Keraton...</td>\n",
              "    </tr>\n",
              "    <tr>\n",
              "      <th>86</th>\n",
              "      <td>87</td>\n",
              "      <td>Sindu Kusuma Edupark (SKE)</td>\n",
              "      <td>Yogyakarta</td>\n",
              "      <td>https://visitingjogja.jogjaprov.go.id/web/wp-c...</td>\n",
              "      <td>20000</td>\n",
              "      <td>4.2</td>\n",
              "      <td>N</td>\n",
              "      <td>{'lat': -7.767297300000001, 'lng': 110.3542486}</td>\n",
              "      <td>-7.767297</td>\n",
              "      <td>110.354249</td>\n",
              "      <td>Taman Hiburan</td>\n",
              "      <td>Sindu Kusuma Edupark (SKE) merupakan sebuah de...</td>\n",
              "    </tr>\n",
              "    <tr>\n",
              "      <th>87</th>\n",
              "      <td>88</td>\n",
              "      <td>Museum Benteng Vredeburg Yogyakarta</td>\n",
              "      <td>Yogyakarta</td>\n",
              "      <td>https://upload.wikimedia.org/wikipedia/commons...</td>\n",
              "      <td>3000</td>\n",
              "      <td>4.6</td>\n",
              "      <td>D</td>\n",
              "      <td>{'lat': -7.800201599999999, 'lng': 110.3663044}</td>\n",
              "      <td>-7.800202</td>\n",
              "      <td>110.366304</td>\n",
              "      <td>Budaya</td>\n",
              "      <td>Museum Benteng Vredeburg (bahasa Jawa: ꦩꦸꦱꦶꦪꦸꦩ...</td>\n",
              "    </tr>\n",
              "    <tr>\n",
              "      <th>88</th>\n",
              "      <td>89</td>\n",
              "      <td>De Mata Museum Jogja</td>\n",
              "      <td>Yogyakarta</td>\n",
              "      <td>https://www.gudeg.net/cni-content/uploads/modu...</td>\n",
              "      <td>50000</td>\n",
              "      <td>4.4</td>\n",
              "      <td>D</td>\n",
              "      <td>{'lat': -7.816315599999999, 'lng': 110.3871442}</td>\n",
              "      <td>-7.816316</td>\n",
              "      <td>110.387144</td>\n",
              "      <td>Budaya</td>\n",
              "      <td>Museum De Mata merupakan salah satu museum yan...</td>\n",
              "    </tr>\n",
              "    <tr>\n",
              "      <th>...</th>\n",
              "      <td>...</td>\n",
              "      <td>...</td>\n",
              "      <td>...</td>\n",
              "      <td>...</td>\n",
              "      <td>...</td>\n",
              "      <td>...</td>\n",
              "      <td>...</td>\n",
              "      <td>...</td>\n",
              "      <td>...</td>\n",
              "      <td>...</td>\n",
              "      <td>...</td>\n",
              "      <td>...</td>\n",
              "    </tr>\n",
              "    <tr>\n",
              "      <th>205</th>\n",
              "      <td>206</td>\n",
              "      <td>Wisata Kaliurang</td>\n",
              "      <td>Yogyakarta</td>\n",
              "      <td>https://images.tokopedia.net/blog-tokopedia-co...</td>\n",
              "      <td>8000</td>\n",
              "      <td>4.4</td>\n",
              "      <td>D</td>\n",
              "      <td>{'lat': -7.6120675, 'lng': 110.4205209}</td>\n",
              "      <td>-7.612068</td>\n",
              "      <td>110.420521</td>\n",
              "      <td>Cagar Alam</td>\n",
              "      <td>Jogja selalu menarik untuk dikulik, terlebih t...</td>\n",
              "    </tr>\n",
              "    <tr>\n",
              "      <th>206</th>\n",
              "      <td>207</td>\n",
              "      <td>Heha Sky View</td>\n",
              "      <td>Yogyakarta</td>\n",
              "      <td>https://media.suara.com/pictures/970x544/2019/...</td>\n",
              "      <td>15000</td>\n",
              "      <td>4.4</td>\n",
              "      <td>N</td>\n",
              "      <td>{'lat': -7.8496144, 'lng': 110.478324}</td>\n",
              "      <td>-7.849614</td>\n",
              "      <td>110.478324</td>\n",
              "      <td>Taman Hiburan</td>\n",
              "      <td>HeHa Sky View adalah salah satu tempat wisata ...</td>\n",
              "    </tr>\n",
              "    <tr>\n",
              "      <th>207</th>\n",
              "      <td>208</td>\n",
              "      <td>Taman Sungai Mudal</td>\n",
              "      <td>Yogyakarta</td>\n",
              "      <td>https://garasijogja.com/wp-content/uploads/201...</td>\n",
              "      <td>10000</td>\n",
              "      <td>4.6</td>\n",
              "      <td>D</td>\n",
              "      <td>{'lat': -7.762813599999998, 'lng': 110.1161626}</td>\n",
              "      <td>-7.762814</td>\n",
              "      <td>110.116163</td>\n",
              "      <td>Cagar Alam</td>\n",
              "      <td>Taman Sungai Mudal, sebuah objek wisata alam t...</td>\n",
              "    </tr>\n",
              "    <tr>\n",
              "      <th>208</th>\n",
              "      <td>209</td>\n",
              "      <td>Pantai Sanglen</td>\n",
              "      <td>Yogyakarta</td>\n",
              "      <td>https://www.nativeindonesia.com/foto/pantai-sa...</td>\n",
              "      <td>10000</td>\n",
              "      <td>4.5</td>\n",
              "      <td>D</td>\n",
              "      <td>{'lat': -8.1367456, 'lng': 110.5716362}</td>\n",
              "      <td>-8.136746</td>\n",
              "      <td>110.571636</td>\n",
              "      <td>Bahari</td>\n",
              "      <td>Pantai Sanglen. Lokasinya berada di Desa Kemad...</td>\n",
              "    </tr>\n",
              "    <tr>\n",
              "      <th>209</th>\n",
              "      <td>210</td>\n",
              "      <td>Pantai Congot</td>\n",
              "      <td>Yogyakarta</td>\n",
              "      <td>https://sikidang.com/wp-content/uploads/Pantai...</td>\n",
              "      <td>3000</td>\n",
              "      <td>4.3</td>\n",
              "      <td>N</td>\n",
              "      <td>{'lat': -7.907542500000001, 'lng': 110.0535658}</td>\n",
              "      <td>-7.907542</td>\n",
              "      <td>110.053566</td>\n",
              "      <td>Bahari</td>\n",
              "      <td>Selain Pantai Glagah dan Pantai Trisik, ternya...</td>\n",
              "    </tr>\n",
              "  </tbody>\n",
              "</table>\n",
              "<p>126 rows × 12 columns</p>\n",
              "</div>\n",
              "      <button class=\"colab-df-convert\" onclick=\"convertToInteractive('df-6ed3b071-ea8d-4abc-852b-763767cf250f')\"\n",
              "              title=\"Convert this dataframe to an interactive table.\"\n",
              "              style=\"display:none;\">\n",
              "        \n",
              "  <svg xmlns=\"http://www.w3.org/2000/svg\" height=\"24px\"viewBox=\"0 0 24 24\"\n",
              "       width=\"24px\">\n",
              "    <path d=\"M0 0h24v24H0V0z\" fill=\"none\"/>\n",
              "    <path d=\"M18.56 5.44l.94 2.06.94-2.06 2.06-.94-2.06-.94-.94-2.06-.94 2.06-2.06.94zm-11 1L8.5 8.5l.94-2.06 2.06-.94-2.06-.94L8.5 2.5l-.94 2.06-2.06.94zm10 10l.94 2.06.94-2.06 2.06-.94-2.06-.94-.94-2.06-.94 2.06-2.06.94z\"/><path d=\"M17.41 7.96l-1.37-1.37c-.4-.4-.92-.59-1.43-.59-.52 0-1.04.2-1.43.59L10.3 9.45l-7.72 7.72c-.78.78-.78 2.05 0 2.83L4 21.41c.39.39.9.59 1.41.59.51 0 1.02-.2 1.41-.59l7.78-7.78 2.81-2.81c.8-.78.8-2.07 0-2.86zM5.41 20L4 18.59l7.72-7.72 1.47 1.35L5.41 20z\"/>\n",
              "  </svg>\n",
              "      </button>\n",
              "      \n",
              "  <style>\n",
              "    .colab-df-container {\n",
              "      display:flex;\n",
              "      flex-wrap:wrap;\n",
              "      gap: 12px;\n",
              "    }\n",
              "\n",
              "    .colab-df-convert {\n",
              "      background-color: #E8F0FE;\n",
              "      border: none;\n",
              "      border-radius: 50%;\n",
              "      cursor: pointer;\n",
              "      display: none;\n",
              "      fill: #1967D2;\n",
              "      height: 32px;\n",
              "      padding: 0 0 0 0;\n",
              "      width: 32px;\n",
              "    }\n",
              "\n",
              "    .colab-df-convert:hover {\n",
              "      background-color: #E2EBFA;\n",
              "      box-shadow: 0px 1px 2px rgba(60, 64, 67, 0.3), 0px 1px 3px 1px rgba(60, 64, 67, 0.15);\n",
              "      fill: #174EA6;\n",
              "    }\n",
              "\n",
              "    [theme=dark] .colab-df-convert {\n",
              "      background-color: #3B4455;\n",
              "      fill: #D2E3FC;\n",
              "    }\n",
              "\n",
              "    [theme=dark] .colab-df-convert:hover {\n",
              "      background-color: #434B5C;\n",
              "      box-shadow: 0px 1px 3px 1px rgba(0, 0, 0, 0.15);\n",
              "      filter: drop-shadow(0px 1px 2px rgba(0, 0, 0, 0.3));\n",
              "      fill: #FFFFFF;\n",
              "    }\n",
              "  </style>\n",
              "\n",
              "      <script>\n",
              "        const buttonEl =\n",
              "          document.querySelector('#df-6ed3b071-ea8d-4abc-852b-763767cf250f button.colab-df-convert');\n",
              "        buttonEl.style.display =\n",
              "          google.colab.kernel.accessAllowed ? 'block' : 'none';\n",
              "\n",
              "        async function convertToInteractive(key) {\n",
              "          const element = document.querySelector('#df-6ed3b071-ea8d-4abc-852b-763767cf250f');\n",
              "          const dataTable =\n",
              "            await google.colab.kernel.invokeFunction('convertToInteractive',\n",
              "                                                     [key], {});\n",
              "          if (!dataTable) return;\n",
              "\n",
              "          const docLinkHtml = 'Like what you see? Visit the ' +\n",
              "            '<a target=\"_blank\" href=https://colab.research.google.com/notebooks/data_table.ipynb>data table notebook</a>'\n",
              "            + ' to learn more about interactive tables.';\n",
              "          element.innerHTML = '';\n",
              "          dataTable['output_type'] = 'display_data';\n",
              "          await google.colab.output.renderOutput(dataTable, element);\n",
              "          const docLink = document.createElement('div');\n",
              "          docLink.innerHTML = docLinkHtml;\n",
              "          element.appendChild(docLink);\n",
              "        }\n",
              "      </script>\n",
              "    </div>\n",
              "  </div>\n",
              "  "
            ],
            "text/plain": [
              "     Place_Id                           Place_Name        City  \\\n",
              "84         85              Taman Pintar Yogyakarta  Yogyakarta   \n",
              "85         86                   Keraton Yogyakarta  Yogyakarta   \n",
              "86         87           Sindu Kusuma Edupark (SKE)  Yogyakarta   \n",
              "87         88  Museum Benteng Vredeburg Yogyakarta  Yogyakarta   \n",
              "88         89                 De Mata Museum Jogja  Yogyakarta   \n",
              "..        ...                                  ...         ...   \n",
              "205       206                     Wisata Kaliurang  Yogyakarta   \n",
              "206       207                        Heha Sky View  Yogyakarta   \n",
              "207       208                   Taman Sungai Mudal  Yogyakarta   \n",
              "208       209                       Pantai Sanglen  Yogyakarta   \n",
              "209       210                        Pantai Congot  Yogyakarta   \n",
              "\n",
              "                                                Images  Price  Rating DorN  \\\n",
              "84   https://moneyinsight-news.com/wp-content/uploa...   6000     4.5    D   \n",
              "85   https://anekatempatwisata.com/wp-content/uploa...  15000     4.6    D   \n",
              "86   https://visitingjogja.jogjaprov.go.id/web/wp-c...  20000     4.2    N   \n",
              "87   https://upload.wikimedia.org/wikipedia/commons...   3000     4.6    D   \n",
              "88   https://www.gudeg.net/cni-content/uploads/modu...  50000     4.4    D   \n",
              "..                                                 ...    ...     ...  ...   \n",
              "205  https://images.tokopedia.net/blog-tokopedia-co...   8000     4.4    D   \n",
              "206  https://media.suara.com/pictures/970x544/2019/...  15000     4.4    N   \n",
              "207  https://garasijogja.com/wp-content/uploads/201...  10000     4.6    D   \n",
              "208  https://www.nativeindonesia.com/foto/pantai-sa...  10000     4.5    D   \n",
              "209  https://sikidang.com/wp-content/uploads/Pantai...   3000     4.3    N   \n",
              "\n",
              "                                          Coordinate       Lat        Long  \\\n",
              "84   {'lat': -7.800671500000001, 'lng': 110.3676551} -7.800671  110.367655   \n",
              "85           {'lat': -7.8052845, 'lng': 110.3642031} -7.805284  110.364203   \n",
              "86   {'lat': -7.767297300000001, 'lng': 110.3542486} -7.767297  110.354249   \n",
              "87   {'lat': -7.800201599999999, 'lng': 110.3663044} -7.800202  110.366304   \n",
              "88   {'lat': -7.816315599999999, 'lng': 110.3871442} -7.816316  110.387144   \n",
              "..                                               ...       ...         ...   \n",
              "205          {'lat': -7.6120675, 'lng': 110.4205209} -7.612068  110.420521   \n",
              "206           {'lat': -7.8496144, 'lng': 110.478324} -7.849614  110.478324   \n",
              "207  {'lat': -7.762813599999998, 'lng': 110.1161626} -7.762814  110.116163   \n",
              "208          {'lat': -8.1367456, 'lng': 110.5716362} -8.136746  110.571636   \n",
              "209  {'lat': -7.907542500000001, 'lng': 110.0535658} -7.907542  110.053566   \n",
              "\n",
              "          Category                                        Description  \n",
              "84   Taman Hiburan  Taman Pintar Yogyakarta (bahasa Jawa: Hanacara...  \n",
              "85          Budaya  Keraton Ngayogyakarta Hadiningrat atau Keraton...  \n",
              "86   Taman Hiburan  Sindu Kusuma Edupark (SKE) merupakan sebuah de...  \n",
              "87          Budaya  Museum Benteng Vredeburg (bahasa Jawa: ꦩꦸꦱꦶꦪꦸꦩ...  \n",
              "88          Budaya  Museum De Mata merupakan salah satu museum yan...  \n",
              "..             ...                                                ...  \n",
              "205     Cagar Alam  Jogja selalu menarik untuk dikulik, terlebih t...  \n",
              "206  Taman Hiburan  HeHa Sky View adalah salah satu tempat wisata ...  \n",
              "207     Cagar Alam  Taman Sungai Mudal, sebuah objek wisata alam t...  \n",
              "208         Bahari  Pantai Sanglen. Lokasinya berada di Desa Kemad...  \n",
              "209         Bahari  Selain Pantai Glagah dan Pantai Trisik, ternya...  \n",
              "\n",
              "[126 rows x 12 columns]"
            ]
          },
          "execution_count": 8,
          "metadata": {},
          "output_type": "execute_result"
        }
      ],
      "source": [
        "# Merubah data agar hanya dari Kota Spesifik\n",
        "#Belum di Implement, jika ingin di implement cek bagian \"Mengubah Data Rating Sesuai Kota\"\n",
        "place_s = place[place['City']=='Yogyakarta']\n",
        "place_s[:130]\n",
        "#place.all"
      ]
    },
    {
      "cell_type": "markdown",
      "metadata": {
        "id": "B6zhqSehrQaD"
      },
      "source": [
        "#### Data Rating"
      ]
    },
    {
      "cell_type": "code",
      "execution_count": null,
      "metadata": {
        "colab": {
          "base_uri": "https://localhost:8080/",
          "height": 206
        },
        "id": "aq503y0g9ZSr",
        "outputId": "04167388-95c7-4720-a53b-1f7225cb9ea1"
      },
      "outputs": [
        {
          "data": {
            "text/html": [
              "\n",
              "  <div id=\"df-e25c5e3c-6ee8-44c4-b3cf-92de039a47e4\">\n",
              "    <div class=\"colab-df-container\">\n",
              "      <div>\n",
              "<style scoped>\n",
              "    .dataframe tbody tr th:only-of-type {\n",
              "        vertical-align: middle;\n",
              "    }\n",
              "\n",
              "    .dataframe tbody tr th {\n",
              "        vertical-align: top;\n",
              "    }\n",
              "\n",
              "    .dataframe thead th {\n",
              "        text-align: right;\n",
              "    }\n",
              "</style>\n",
              "<table border=\"1\" class=\"dataframe\">\n",
              "  <thead>\n",
              "    <tr style=\"text-align: right;\">\n",
              "      <th></th>\n",
              "      <th>User_Id</th>\n",
              "      <th>Place_Id</th>\n",
              "      <th>Place_Ratings</th>\n",
              "    </tr>\n",
              "  </thead>\n",
              "  <tbody>\n",
              "    <tr>\n",
              "      <th>0</th>\n",
              "      <td>1</td>\n",
              "      <td>179</td>\n",
              "      <td>3</td>\n",
              "    </tr>\n",
              "    <tr>\n",
              "      <th>1</th>\n",
              "      <td>1</td>\n",
              "      <td>344</td>\n",
              "      <td>2</td>\n",
              "    </tr>\n",
              "    <tr>\n",
              "      <th>2</th>\n",
              "      <td>1</td>\n",
              "      <td>5</td>\n",
              "      <td>5</td>\n",
              "    </tr>\n",
              "    <tr>\n",
              "      <th>3</th>\n",
              "      <td>1</td>\n",
              "      <td>373</td>\n",
              "      <td>3</td>\n",
              "    </tr>\n",
              "    <tr>\n",
              "      <th>4</th>\n",
              "      <td>1</td>\n",
              "      <td>101</td>\n",
              "      <td>4</td>\n",
              "    </tr>\n",
              "  </tbody>\n",
              "</table>\n",
              "</div>\n",
              "      <button class=\"colab-df-convert\" onclick=\"convertToInteractive('df-e25c5e3c-6ee8-44c4-b3cf-92de039a47e4')\"\n",
              "              title=\"Convert this dataframe to an interactive table.\"\n",
              "              style=\"display:none;\">\n",
              "        \n",
              "  <svg xmlns=\"http://www.w3.org/2000/svg\" height=\"24px\"viewBox=\"0 0 24 24\"\n",
              "       width=\"24px\">\n",
              "    <path d=\"M0 0h24v24H0V0z\" fill=\"none\"/>\n",
              "    <path d=\"M18.56 5.44l.94 2.06.94-2.06 2.06-.94-2.06-.94-.94-2.06-.94 2.06-2.06.94zm-11 1L8.5 8.5l.94-2.06 2.06-.94-2.06-.94L8.5 2.5l-.94 2.06-2.06.94zm10 10l.94 2.06.94-2.06 2.06-.94-2.06-.94-.94-2.06-.94 2.06-2.06.94z\"/><path d=\"M17.41 7.96l-1.37-1.37c-.4-.4-.92-.59-1.43-.59-.52 0-1.04.2-1.43.59L10.3 9.45l-7.72 7.72c-.78.78-.78 2.05 0 2.83L4 21.41c.39.39.9.59 1.41.59.51 0 1.02-.2 1.41-.59l7.78-7.78 2.81-2.81c.8-.78.8-2.07 0-2.86zM5.41 20L4 18.59l7.72-7.72 1.47 1.35L5.41 20z\"/>\n",
              "  </svg>\n",
              "      </button>\n",
              "      \n",
              "  <style>\n",
              "    .colab-df-container {\n",
              "      display:flex;\n",
              "      flex-wrap:wrap;\n",
              "      gap: 12px;\n",
              "    }\n",
              "\n",
              "    .colab-df-convert {\n",
              "      background-color: #E8F0FE;\n",
              "      border: none;\n",
              "      border-radius: 50%;\n",
              "      cursor: pointer;\n",
              "      display: none;\n",
              "      fill: #1967D2;\n",
              "      height: 32px;\n",
              "      padding: 0 0 0 0;\n",
              "      width: 32px;\n",
              "    }\n",
              "\n",
              "    .colab-df-convert:hover {\n",
              "      background-color: #E2EBFA;\n",
              "      box-shadow: 0px 1px 2px rgba(60, 64, 67, 0.3), 0px 1px 3px 1px rgba(60, 64, 67, 0.15);\n",
              "      fill: #174EA6;\n",
              "    }\n",
              "\n",
              "    [theme=dark] .colab-df-convert {\n",
              "      background-color: #3B4455;\n",
              "      fill: #D2E3FC;\n",
              "    }\n",
              "\n",
              "    [theme=dark] .colab-df-convert:hover {\n",
              "      background-color: #434B5C;\n",
              "      box-shadow: 0px 1px 3px 1px rgba(0, 0, 0, 0.15);\n",
              "      filter: drop-shadow(0px 1px 2px rgba(0, 0, 0, 0.3));\n",
              "      fill: #FFFFFF;\n",
              "    }\n",
              "  </style>\n",
              "\n",
              "      <script>\n",
              "        const buttonEl =\n",
              "          document.querySelector('#df-e25c5e3c-6ee8-44c4-b3cf-92de039a47e4 button.colab-df-convert');\n",
              "        buttonEl.style.display =\n",
              "          google.colab.kernel.accessAllowed ? 'block' : 'none';\n",
              "\n",
              "        async function convertToInteractive(key) {\n",
              "          const element = document.querySelector('#df-e25c5e3c-6ee8-44c4-b3cf-92de039a47e4');\n",
              "          const dataTable =\n",
              "            await google.colab.kernel.invokeFunction('convertToInteractive',\n",
              "                                                     [key], {});\n",
              "          if (!dataTable) return;\n",
              "\n",
              "          const docLinkHtml = 'Like what you see? Visit the ' +\n",
              "            '<a target=\"_blank\" href=https://colab.research.google.com/notebooks/data_table.ipynb>data table notebook</a>'\n",
              "            + ' to learn more about interactive tables.';\n",
              "          element.innerHTML = '';\n",
              "          dataTable['output_type'] = 'display_data';\n",
              "          await google.colab.output.renderOutput(dataTable, element);\n",
              "          const docLink = document.createElement('div');\n",
              "          docLink.innerHTML = docLinkHtml;\n",
              "          element.appendChild(docLink);\n",
              "        }\n",
              "      </script>\n",
              "    </div>\n",
              "  </div>\n",
              "  "
            ],
            "text/plain": [
              "   User_Id  Place_Id  Place_Ratings\n",
              "0        1       179              3\n",
              "1        1       344              2\n",
              "2        1         5              5\n",
              "3        1       373              3\n",
              "4        1       101              4"
            ]
          },
          "execution_count": 9,
          "metadata": {},
          "output_type": "execute_result"
        }
      ],
      "source": [
        "# melihat gambaran data rating\n",
        "\n",
        "rating.head()"
      ]
    },
    {
      "cell_type": "code",
      "execution_count": null,
      "metadata": {
        "colab": {
          "base_uri": "https://localhost:8080/"
        },
        "id": "4oTbSh9k9ZVD",
        "outputId": "f44ab1b3-014b-422a-bbb9-4847a169cbfd"
      },
      "outputs": [
        {
          "name": "stdout",
          "output_type": "stream",
          "text": [
            "<class 'pandas.core.frame.DataFrame'>\n",
            "RangeIndex: 10000 entries, 0 to 9999\n",
            "Data columns (total 3 columns):\n",
            " #   Column         Non-Null Count  Dtype\n",
            "---  ------         --------------  -----\n",
            " 0   User_Id        10000 non-null  int64\n",
            " 1   Place_Id       10000 non-null  int64\n",
            " 2   Place_Ratings  10000 non-null  int64\n",
            "dtypes: int64(3)\n",
            "memory usage: 234.5 KB\n"
          ]
        }
      ],
      "source": [
        "rating.info()"
      ]
    },
    {
      "cell_type": "markdown",
      "metadata": {
        "id": "h3A4kaMEHtH3"
      },
      "source": [
        "##### Mengubah Data Rating Sesuai Kota"
      ]
    },
    {
      "cell_type": "code",
      "execution_count": null,
      "metadata": {
        "colab": {
          "base_uri": "https://localhost:8080/",
          "height": 206
        },
        "id": "aNekp6Rw9ZXw",
        "outputId": "2c68185a-b182-4956-b59b-9fa7d7265fb5"
      },
      "outputs": [
        {
          "output_type": "execute_result",
          "data": {
            "text/plain": [
              "   User_Id  Place_Id  Place_Ratings\n",
              "0       36         1              4\n",
              "1       38         1              2\n",
              "2       64         1              2\n",
              "3       74         1              2\n",
              "4       86         1              4"
            ],
            "text/html": [
              "\n",
              "  <div id=\"df-b1f37178-bcb9-48bf-9741-c0f5ba6e6634\">\n",
              "    <div class=\"colab-df-container\">\n",
              "      <div>\n",
              "<style scoped>\n",
              "    .dataframe tbody tr th:only-of-type {\n",
              "        vertical-align: middle;\n",
              "    }\n",
              "\n",
              "    .dataframe tbody tr th {\n",
              "        vertical-align: top;\n",
              "    }\n",
              "\n",
              "    .dataframe thead th {\n",
              "        text-align: right;\n",
              "    }\n",
              "</style>\n",
              "<table border=\"1\" class=\"dataframe\">\n",
              "  <thead>\n",
              "    <tr style=\"text-align: right;\">\n",
              "      <th></th>\n",
              "      <th>User_Id</th>\n",
              "      <th>Place_Id</th>\n",
              "      <th>Place_Ratings</th>\n",
              "    </tr>\n",
              "  </thead>\n",
              "  <tbody>\n",
              "    <tr>\n",
              "      <th>0</th>\n",
              "      <td>36</td>\n",
              "      <td>1</td>\n",
              "      <td>4</td>\n",
              "    </tr>\n",
              "    <tr>\n",
              "      <th>1</th>\n",
              "      <td>38</td>\n",
              "      <td>1</td>\n",
              "      <td>2</td>\n",
              "    </tr>\n",
              "    <tr>\n",
              "      <th>2</th>\n",
              "      <td>64</td>\n",
              "      <td>1</td>\n",
              "      <td>2</td>\n",
              "    </tr>\n",
              "    <tr>\n",
              "      <th>3</th>\n",
              "      <td>74</td>\n",
              "      <td>1</td>\n",
              "      <td>2</td>\n",
              "    </tr>\n",
              "    <tr>\n",
              "      <th>4</th>\n",
              "      <td>86</td>\n",
              "      <td>1</td>\n",
              "      <td>4</td>\n",
              "    </tr>\n",
              "  </tbody>\n",
              "</table>\n",
              "</div>\n",
              "      <button class=\"colab-df-convert\" onclick=\"convertToInteractive('df-b1f37178-bcb9-48bf-9741-c0f5ba6e6634')\"\n",
              "              title=\"Convert this dataframe to an interactive table.\"\n",
              "              style=\"display:none;\">\n",
              "        \n",
              "  <svg xmlns=\"http://www.w3.org/2000/svg\" height=\"24px\"viewBox=\"0 0 24 24\"\n",
              "       width=\"24px\">\n",
              "    <path d=\"M0 0h24v24H0V0z\" fill=\"none\"/>\n",
              "    <path d=\"M18.56 5.44l.94 2.06.94-2.06 2.06-.94-2.06-.94-.94-2.06-.94 2.06-2.06.94zm-11 1L8.5 8.5l.94-2.06 2.06-.94-2.06-.94L8.5 2.5l-.94 2.06-2.06.94zm10 10l.94 2.06.94-2.06 2.06-.94-2.06-.94-.94-2.06-.94 2.06-2.06.94z\"/><path d=\"M17.41 7.96l-1.37-1.37c-.4-.4-.92-.59-1.43-.59-.52 0-1.04.2-1.43.59L10.3 9.45l-7.72 7.72c-.78.78-.78 2.05 0 2.83L4 21.41c.39.39.9.59 1.41.59.51 0 1.02-.2 1.41-.59l7.78-7.78 2.81-2.81c.8-.78.8-2.07 0-2.86zM5.41 20L4 18.59l7.72-7.72 1.47 1.35L5.41 20z\"/>\n",
              "  </svg>\n",
              "      </button>\n",
              "      \n",
              "  <style>\n",
              "    .colab-df-container {\n",
              "      display:flex;\n",
              "      flex-wrap:wrap;\n",
              "      gap: 12px;\n",
              "    }\n",
              "\n",
              "    .colab-df-convert {\n",
              "      background-color: #E8F0FE;\n",
              "      border: none;\n",
              "      border-radius: 50%;\n",
              "      cursor: pointer;\n",
              "      display: none;\n",
              "      fill: #1967D2;\n",
              "      height: 32px;\n",
              "      padding: 0 0 0 0;\n",
              "      width: 32px;\n",
              "    }\n",
              "\n",
              "    .colab-df-convert:hover {\n",
              "      background-color: #E2EBFA;\n",
              "      box-shadow: 0px 1px 2px rgba(60, 64, 67, 0.3), 0px 1px 3px 1px rgba(60, 64, 67, 0.15);\n",
              "      fill: #174EA6;\n",
              "    }\n",
              "\n",
              "    [theme=dark] .colab-df-convert {\n",
              "      background-color: #3B4455;\n",
              "      fill: #D2E3FC;\n",
              "    }\n",
              "\n",
              "    [theme=dark] .colab-df-convert:hover {\n",
              "      background-color: #434B5C;\n",
              "      box-shadow: 0px 1px 3px 1px rgba(0, 0, 0, 0.15);\n",
              "      filter: drop-shadow(0px 1px 2px rgba(0, 0, 0, 0.3));\n",
              "      fill: #FFFFFF;\n",
              "    }\n",
              "  </style>\n",
              "\n",
              "      <script>\n",
              "        const buttonEl =\n",
              "          document.querySelector('#df-b1f37178-bcb9-48bf-9741-c0f5ba6e6634 button.colab-df-convert');\n",
              "        buttonEl.style.display =\n",
              "          google.colab.kernel.accessAllowed ? 'block' : 'none';\n",
              "\n",
              "        async function convertToInteractive(key) {\n",
              "          const element = document.querySelector('#df-b1f37178-bcb9-48bf-9741-c0f5ba6e6634');\n",
              "          const dataTable =\n",
              "            await google.colab.kernel.invokeFunction('convertToInteractive',\n",
              "                                                     [key], {});\n",
              "          if (!dataTable) return;\n",
              "\n",
              "          const docLinkHtml = 'Like what you see? Visit the ' +\n",
              "            '<a target=\"_blank\" href=https://colab.research.google.com/notebooks/data_table.ipynb>data table notebook</a>'\n",
              "            + ' to learn more about interactive tables.';\n",
              "          element.innerHTML = '';\n",
              "          dataTable['output_type'] = 'display_data';\n",
              "          await google.colab.output.renderOutput(dataTable, element);\n",
              "          const docLink = document.createElement('div');\n",
              "          docLink.innerHTML = docLinkHtml;\n",
              "          element.appendChild(docLink);\n",
              "        }\n",
              "      </script>\n",
              "    </div>\n",
              "  </div>\n",
              "  "
            ]
          },
          "metadata": {},
          "execution_count": 4
        }
      ],
      "source": [
        "# Merubah data rating agar hanya berisi rating pada tempat wisata dari Kota Spesifik\n",
        "\n",
        "rating = pd.merge(rating, place[['Place_Id']], how='right', on='Place_Id') #Jika implement kota spesifik => place ganti place_s\n",
        "rating.head()"
      ]
    },
    {
      "cell_type": "code",
      "execution_count": null,
      "metadata": {
        "colab": {
          "base_uri": "https://localhost:8080/"
        },
        "id": "N_rN2LCD9qXv",
        "outputId": "a927ba6e-60b3-4654-af89-84bee6ab13e3"
      },
      "outputs": [
        {
          "data": {
            "text/plain": [
              "(2871, 3)"
            ]
          },
          "execution_count": 12,
          "metadata": {},
          "output_type": "execute_result"
        }
      ],
      "source": [
        "# Melihat ukuran dataset rating untuk Kota Spesifik\n",
        "\n",
        "rating.shape"
      ]
    },
    {
      "cell_type": "markdown",
      "metadata": {
        "id": "JBbZpK6XrblB"
      },
      "source": [
        "#### Data User"
      ]
    },
    {
      "cell_type": "code",
      "execution_count": null,
      "metadata": {
        "colab": {
          "base_uri": "https://localhost:8080/",
          "height": 206
        },
        "id": "UQEzPq8_9qaX",
        "outputId": "a518f864-f467-4d4d-90e3-ca604fe15f1a"
      },
      "outputs": [
        {
          "data": {
            "text/html": [
              "\n",
              "  <div id=\"df-f9c8574f-c8b8-4ee7-bd7f-3de7776b89f6\">\n",
              "    <div class=\"colab-df-container\">\n",
              "      <div>\n",
              "<style scoped>\n",
              "    .dataframe tbody tr th:only-of-type {\n",
              "        vertical-align: middle;\n",
              "    }\n",
              "\n",
              "    .dataframe tbody tr th {\n",
              "        vertical-align: top;\n",
              "    }\n",
              "\n",
              "    .dataframe thead th {\n",
              "        text-align: right;\n",
              "    }\n",
              "</style>\n",
              "<table border=\"1\" class=\"dataframe\">\n",
              "  <thead>\n",
              "    <tr style=\"text-align: right;\">\n",
              "      <th></th>\n",
              "      <th>User_Id</th>\n",
              "      <th>Location</th>\n",
              "      <th>Age</th>\n",
              "    </tr>\n",
              "  </thead>\n",
              "  <tbody>\n",
              "    <tr>\n",
              "      <th>0</th>\n",
              "      <td>1</td>\n",
              "      <td>Semarang, Jawa Tengah</td>\n",
              "      <td>20</td>\n",
              "    </tr>\n",
              "    <tr>\n",
              "      <th>1</th>\n",
              "      <td>2</td>\n",
              "      <td>Bekasi, Jawa Barat</td>\n",
              "      <td>21</td>\n",
              "    </tr>\n",
              "    <tr>\n",
              "      <th>2</th>\n",
              "      <td>3</td>\n",
              "      <td>Cirebon, Jawa Barat</td>\n",
              "      <td>23</td>\n",
              "    </tr>\n",
              "    <tr>\n",
              "      <th>3</th>\n",
              "      <td>4</td>\n",
              "      <td>Bekasi, Jawa Barat</td>\n",
              "      <td>21</td>\n",
              "    </tr>\n",
              "    <tr>\n",
              "      <th>4</th>\n",
              "      <td>5</td>\n",
              "      <td>Lampung, Sumatera Selatan</td>\n",
              "      <td>20</td>\n",
              "    </tr>\n",
              "  </tbody>\n",
              "</table>\n",
              "</div>\n",
              "      <button class=\"colab-df-convert\" onclick=\"convertToInteractive('df-f9c8574f-c8b8-4ee7-bd7f-3de7776b89f6')\"\n",
              "              title=\"Convert this dataframe to an interactive table.\"\n",
              "              style=\"display:none;\">\n",
              "        \n",
              "  <svg xmlns=\"http://www.w3.org/2000/svg\" height=\"24px\"viewBox=\"0 0 24 24\"\n",
              "       width=\"24px\">\n",
              "    <path d=\"M0 0h24v24H0V0z\" fill=\"none\"/>\n",
              "    <path d=\"M18.56 5.44l.94 2.06.94-2.06 2.06-.94-2.06-.94-.94-2.06-.94 2.06-2.06.94zm-11 1L8.5 8.5l.94-2.06 2.06-.94-2.06-.94L8.5 2.5l-.94 2.06-2.06.94zm10 10l.94 2.06.94-2.06 2.06-.94-2.06-.94-.94-2.06-.94 2.06-2.06.94z\"/><path d=\"M17.41 7.96l-1.37-1.37c-.4-.4-.92-.59-1.43-.59-.52 0-1.04.2-1.43.59L10.3 9.45l-7.72 7.72c-.78.78-.78 2.05 0 2.83L4 21.41c.39.39.9.59 1.41.59.51 0 1.02-.2 1.41-.59l7.78-7.78 2.81-2.81c.8-.78.8-2.07 0-2.86zM5.41 20L4 18.59l7.72-7.72 1.47 1.35L5.41 20z\"/>\n",
              "  </svg>\n",
              "      </button>\n",
              "      \n",
              "  <style>\n",
              "    .colab-df-container {\n",
              "      display:flex;\n",
              "      flex-wrap:wrap;\n",
              "      gap: 12px;\n",
              "    }\n",
              "\n",
              "    .colab-df-convert {\n",
              "      background-color: #E8F0FE;\n",
              "      border: none;\n",
              "      border-radius: 50%;\n",
              "      cursor: pointer;\n",
              "      display: none;\n",
              "      fill: #1967D2;\n",
              "      height: 32px;\n",
              "      padding: 0 0 0 0;\n",
              "      width: 32px;\n",
              "    }\n",
              "\n",
              "    .colab-df-convert:hover {\n",
              "      background-color: #E2EBFA;\n",
              "      box-shadow: 0px 1px 2px rgba(60, 64, 67, 0.3), 0px 1px 3px 1px rgba(60, 64, 67, 0.15);\n",
              "      fill: #174EA6;\n",
              "    }\n",
              "\n",
              "    [theme=dark] .colab-df-convert {\n",
              "      background-color: #3B4455;\n",
              "      fill: #D2E3FC;\n",
              "    }\n",
              "\n",
              "    [theme=dark] .colab-df-convert:hover {\n",
              "      background-color: #434B5C;\n",
              "      box-shadow: 0px 1px 3px 1px rgba(0, 0, 0, 0.15);\n",
              "      filter: drop-shadow(0px 1px 2px rgba(0, 0, 0, 0.3));\n",
              "      fill: #FFFFFF;\n",
              "    }\n",
              "  </style>\n",
              "\n",
              "      <script>\n",
              "        const buttonEl =\n",
              "          document.querySelector('#df-f9c8574f-c8b8-4ee7-bd7f-3de7776b89f6 button.colab-df-convert');\n",
              "        buttonEl.style.display =\n",
              "          google.colab.kernel.accessAllowed ? 'block' : 'none';\n",
              "\n",
              "        async function convertToInteractive(key) {\n",
              "          const element = document.querySelector('#df-f9c8574f-c8b8-4ee7-bd7f-3de7776b89f6');\n",
              "          const dataTable =\n",
              "            await google.colab.kernel.invokeFunction('convertToInteractive',\n",
              "                                                     [key], {});\n",
              "          if (!dataTable) return;\n",
              "\n",
              "          const docLinkHtml = 'Like what you see? Visit the ' +\n",
              "            '<a target=\"_blank\" href=https://colab.research.google.com/notebooks/data_table.ipynb>data table notebook</a>'\n",
              "            + ' to learn more about interactive tables.';\n",
              "          element.innerHTML = '';\n",
              "          dataTable['output_type'] = 'display_data';\n",
              "          await google.colab.output.renderOutput(dataTable, element);\n",
              "          const docLink = document.createElement('div');\n",
              "          docLink.innerHTML = docLinkHtml;\n",
              "          element.appendChild(docLink);\n",
              "        }\n",
              "      </script>\n",
              "    </div>\n",
              "  </div>\n",
              "  "
            ],
            "text/plain": [
              "   User_Id                   Location  Age\n",
              "0        1      Semarang, Jawa Tengah   20\n",
              "1        2         Bekasi, Jawa Barat   21\n",
              "2        3        Cirebon, Jawa Barat   23\n",
              "3        4         Bekasi, Jawa Barat   21\n",
              "4        5  Lampung, Sumatera Selatan   20"
            ]
          },
          "execution_count": 13,
          "metadata": {},
          "output_type": "execute_result"
        }
      ],
      "source": [
        "# Melihat gambaran data user\n",
        "\n",
        "user.head()"
      ]
    },
    {
      "cell_type": "markdown",
      "metadata": {
        "id": "RGcJnO5rH45h"
      },
      "source": [
        "##### Mengubah Data User Sesuai Kota"
      ]
    },
    {
      "cell_type": "code",
      "execution_count": null,
      "metadata": {
        "colab": {
          "base_uri": "https://localhost:8080/",
          "height": 206
        },
        "id": "Janm-c719qdP",
        "outputId": "f4895fc5-ed0c-4a82-eaf9-1addc3c73b7d"
      },
      "outputs": [
        {
          "output_type": "execute_result",
          "data": {
            "text/plain": [
              "     User_Id                   Location  Age\n",
              "83         1      Semarang, Jawa Tengah   20\n",
              "18         2         Bekasi, Jawa Barat   21\n",
              "345        3        Cirebon, Jawa Barat   23\n",
              "62         4         Bekasi, Jawa Barat   21\n",
              "63         5  Lampung, Sumatera Selatan   20"
            ],
            "text/html": [
              "\n",
              "  <div id=\"df-7780b7f6-5a72-43f7-89e2-f84cf42eabfd\">\n",
              "    <div class=\"colab-df-container\">\n",
              "      <div>\n",
              "<style scoped>\n",
              "    .dataframe tbody tr th:only-of-type {\n",
              "        vertical-align: middle;\n",
              "    }\n",
              "\n",
              "    .dataframe tbody tr th {\n",
              "        vertical-align: top;\n",
              "    }\n",
              "\n",
              "    .dataframe thead th {\n",
              "        text-align: right;\n",
              "    }\n",
              "</style>\n",
              "<table border=\"1\" class=\"dataframe\">\n",
              "  <thead>\n",
              "    <tr style=\"text-align: right;\">\n",
              "      <th></th>\n",
              "      <th>User_Id</th>\n",
              "      <th>Location</th>\n",
              "      <th>Age</th>\n",
              "    </tr>\n",
              "  </thead>\n",
              "  <tbody>\n",
              "    <tr>\n",
              "      <th>83</th>\n",
              "      <td>1</td>\n",
              "      <td>Semarang, Jawa Tengah</td>\n",
              "      <td>20</td>\n",
              "    </tr>\n",
              "    <tr>\n",
              "      <th>18</th>\n",
              "      <td>2</td>\n",
              "      <td>Bekasi, Jawa Barat</td>\n",
              "      <td>21</td>\n",
              "    </tr>\n",
              "    <tr>\n",
              "      <th>345</th>\n",
              "      <td>3</td>\n",
              "      <td>Cirebon, Jawa Barat</td>\n",
              "      <td>23</td>\n",
              "    </tr>\n",
              "    <tr>\n",
              "      <th>62</th>\n",
              "      <td>4</td>\n",
              "      <td>Bekasi, Jawa Barat</td>\n",
              "      <td>21</td>\n",
              "    </tr>\n",
              "    <tr>\n",
              "      <th>63</th>\n",
              "      <td>5</td>\n",
              "      <td>Lampung, Sumatera Selatan</td>\n",
              "      <td>20</td>\n",
              "    </tr>\n",
              "  </tbody>\n",
              "</table>\n",
              "</div>\n",
              "      <button class=\"colab-df-convert\" onclick=\"convertToInteractive('df-7780b7f6-5a72-43f7-89e2-f84cf42eabfd')\"\n",
              "              title=\"Convert this dataframe to an interactive table.\"\n",
              "              style=\"display:none;\">\n",
              "        \n",
              "  <svg xmlns=\"http://www.w3.org/2000/svg\" height=\"24px\"viewBox=\"0 0 24 24\"\n",
              "       width=\"24px\">\n",
              "    <path d=\"M0 0h24v24H0V0z\" fill=\"none\"/>\n",
              "    <path d=\"M18.56 5.44l.94 2.06.94-2.06 2.06-.94-2.06-.94-.94-2.06-.94 2.06-2.06.94zm-11 1L8.5 8.5l.94-2.06 2.06-.94-2.06-.94L8.5 2.5l-.94 2.06-2.06.94zm10 10l.94 2.06.94-2.06 2.06-.94-2.06-.94-.94-2.06-.94 2.06-2.06.94z\"/><path d=\"M17.41 7.96l-1.37-1.37c-.4-.4-.92-.59-1.43-.59-.52 0-1.04.2-1.43.59L10.3 9.45l-7.72 7.72c-.78.78-.78 2.05 0 2.83L4 21.41c.39.39.9.59 1.41.59.51 0 1.02-.2 1.41-.59l7.78-7.78 2.81-2.81c.8-.78.8-2.07 0-2.86zM5.41 20L4 18.59l7.72-7.72 1.47 1.35L5.41 20z\"/>\n",
              "  </svg>\n",
              "      </button>\n",
              "      \n",
              "  <style>\n",
              "    .colab-df-container {\n",
              "      display:flex;\n",
              "      flex-wrap:wrap;\n",
              "      gap: 12px;\n",
              "    }\n",
              "\n",
              "    .colab-df-convert {\n",
              "      background-color: #E8F0FE;\n",
              "      border: none;\n",
              "      border-radius: 50%;\n",
              "      cursor: pointer;\n",
              "      display: none;\n",
              "      fill: #1967D2;\n",
              "      height: 32px;\n",
              "      padding: 0 0 0 0;\n",
              "      width: 32px;\n",
              "    }\n",
              "\n",
              "    .colab-df-convert:hover {\n",
              "      background-color: #E2EBFA;\n",
              "      box-shadow: 0px 1px 2px rgba(60, 64, 67, 0.3), 0px 1px 3px 1px rgba(60, 64, 67, 0.15);\n",
              "      fill: #174EA6;\n",
              "    }\n",
              "\n",
              "    [theme=dark] .colab-df-convert {\n",
              "      background-color: #3B4455;\n",
              "      fill: #D2E3FC;\n",
              "    }\n",
              "\n",
              "    [theme=dark] .colab-df-convert:hover {\n",
              "      background-color: #434B5C;\n",
              "      box-shadow: 0px 1px 3px 1px rgba(0, 0, 0, 0.15);\n",
              "      filter: drop-shadow(0px 1px 2px rgba(0, 0, 0, 0.3));\n",
              "      fill: #FFFFFF;\n",
              "    }\n",
              "  </style>\n",
              "\n",
              "      <script>\n",
              "        const buttonEl =\n",
              "          document.querySelector('#df-7780b7f6-5a72-43f7-89e2-f84cf42eabfd button.colab-df-convert');\n",
              "        buttonEl.style.display =\n",
              "          google.colab.kernel.accessAllowed ? 'block' : 'none';\n",
              "\n",
              "        async function convertToInteractive(key) {\n",
              "          const element = document.querySelector('#df-7780b7f6-5a72-43f7-89e2-f84cf42eabfd');\n",
              "          const dataTable =\n",
              "            await google.colab.kernel.invokeFunction('convertToInteractive',\n",
              "                                                     [key], {});\n",
              "          if (!dataTable) return;\n",
              "\n",
              "          const docLinkHtml = 'Like what you see? Visit the ' +\n",
              "            '<a target=\"_blank\" href=https://colab.research.google.com/notebooks/data_table.ipynb>data table notebook</a>'\n",
              "            + ' to learn more about interactive tables.';\n",
              "          element.innerHTML = '';\n",
              "          dataTable['output_type'] = 'display_data';\n",
              "          await google.colab.output.renderOutput(dataTable, element);\n",
              "          const docLink = document.createElement('div');\n",
              "          docLink.innerHTML = docLinkHtml;\n",
              "          element.appendChild(docLink);\n",
              "        }\n",
              "      </script>\n",
              "    </div>\n",
              "  </div>\n",
              "  "
            ]
          },
          "metadata": {},
          "execution_count": 5
        }
      ],
      "source": [
        "# Merubah data user agar hanya berisi user yang pernah megunjungi wisata di Kota Spesifik\n",
        "\n",
        "user = pd.merge(user, rating[['User_Id']], how='right', on='User_Id').drop_duplicates().sort_values('User_Id')\n",
        "user.head()"
      ]
    },
    {
      "cell_type": "code",
      "execution_count": null,
      "metadata": {
        "colab": {
          "base_uri": "https://localhost:8080/"
        },
        "id": "q80eVMcf9qfw",
        "outputId": "46d9ce34-21cb-4c09-a61e-1fcf569b2a2b"
      },
      "outputs": [
        {
          "data": {
            "text/plain": [
              "(300, 3)"
            ]
          },
          "execution_count": 15,
          "metadata": {},
          "output_type": "execute_result"
        }
      ],
      "source": [
        "# Melihat dataset user yang pernah memberi rating pada wisata di Kota Bandung\n",
        "\n",
        "user.shape"
      ]
    },
    {
      "cell_type": "markdown",
      "metadata": {
        "id": "mJ7SdvL2rlmZ"
      },
      "source": [
        "## Visualisasi Data"
      ]
    },
    {
      "cell_type": "code",
      "execution_count": null,
      "metadata": {
        "colab": {
          "base_uri": "https://localhost:8080/",
          "height": 500
        },
        "id": "ciccWJNP9qlO",
        "outputId": "c85a88b2-f37c-4e57-c6c1-d386da70a82e"
      },
      "outputs": [
        {
          "data": {
            "image/png": "[encoded data removed]",
            "text/plain": [
              "<Figure size 640x480 with 1 Axes>"
            ]
          },
          "metadata": {},
          "output_type": "display_data"
        }
      ],
      "source": [
        "sns.countplot(y='City', data=place)\n",
        "plt.title('Perbandingan jumlah wisata pada setiap kota', pad=20)\n",
        "plt.show()"
      ]
    },
    {
      "cell_type": "code",
      "execution_count": null,
      "metadata": {
        "colab": {
          "base_uri": "https://localhost:8080/",
          "height": 337
        },
        "id": "b9D-EjUg9qn0",
        "outputId": "db58780e-7462-48fb-c72a-c80e64fb166f"
      },
      "outputs": [
        {
          "data": {
            "image/png": "[encoded data removed]",
            "text/plain": [
              "<Figure size 500x300 with 1 Axes>"
            ]
          },
          "metadata": {},
          "output_type": "display_data"
        }
      ],
      "source": [
        "# Membuat visualisasi distribusi usia user\n",
        "\n",
        "plt.figure(figsize=(5,3))\n",
        "sns.boxplot(user['Age']);\n",
        "plt.title('Distribusi Usia User', pad=20)\n",
        "plt.show()"
      ]
    },
    {
      "cell_type": "code",
      "execution_count": null,
      "metadata": {
        "colab": {
          "base_uri": "https://localhost:8080/",
          "height": 355
        },
        "id": "TuGIAZrc9qqa",
        "outputId": "df3f89d8-5a72-4358-a598-382dd4859d5d"
      },
      "outputs": [
        {
          "data": {
            "text/plain": [
              "Text(0.5, 1.0, 'Distribusi Harga Masuk Wisata')"
            ]
          },
          "execution_count": 18,
          "metadata": {},
          "output_type": "execute_result"
        },
        {
          "data": {
            "image/png": "[encoded data removed]",
            "text/plain": [
              "<Figure size 700x300 with 1 Axes>"
            ]
          },
          "metadata": {},
          "output_type": "display_data"
        }
      ],
      "source": [
        "# Membuat visualisasi distribusi harga masuk tempat wisata\n",
        "\n",
        "plt.figure(figsize=(7,3))\n",
        "sns.boxplot(place['Price'])\n",
        "plt.title('Distribusi Harga Masuk Wisata', pad=20)\n",
        "#plt.show()"
      ]
    },
    {
      "cell_type": "code",
      "execution_count": null,
      "metadata": {
        "colab": {
          "base_uri": "https://localhost:8080/",
          "height": 573
        },
        "id": "GeCjwpKz9qsy",
        "outputId": "206d8a2b-d3d8-47d2-bedf-dc90b222c741"
      },
      "outputs": [
        {
          "data": {
            "image/png": "[encoded data removed]",
            "text/plain": [
              "<Figure size 800x600 with 1 Axes>"
            ]
          },
          "metadata": {},
          "output_type": "display_data"
        }
      ],
      "source": [
        "# Memfilter asal kota dari user\n",
        "osas = user['Location'].apply(lambda x: str(x).split(',')[0]) #rubah ke str -> possible untuk di split\n",
        "\n",
        "# Visualisasi asal kota dari user\n",
        "plt.figure(figsize=(8,6))\n",
        "sns.countplot(y = osas)\n",
        "plt.title('Jumlah Asal Kota dari User')\n",
        "plt.show()"
      ]
    },
    {
      "cell_type": "markdown",
      "metadata": {
        "id": "dsonU8Evry8g"
      },
      "source": [
        "## Prepare Pembuatan Model"
      ]
    },
    {
      "cell_type": "markdown",
      "metadata": {
        "id": "0waKhfrvr7-6"
      },
      "source": [
        "#### Salin Data Rating"
      ]
    },
    {
      "cell_type": "code",
      "execution_count": null,
      "metadata": {
        "colab": {
          "base_uri": "https://localhost:8080/",
          "height": 206
        },
        "id": "TbOFg-8P92em",
        "outputId": "26d1e24e-80c8-4f84-9f4f-20880166f74b"
      },
      "outputs": [
        {
          "output_type": "execute_result",
          "data": {
            "text/plain": [
              "   User_Id  Place_Id  Place_Ratings\n",
              "0       36         1              4\n",
              "1       38         1              2\n",
              "2       64         1              2\n",
              "3       74         1              2\n",
              "4       86         1              4"
            ],
            "text/html": [
              "\n",
              "  <div id=\"df-d38a65b8-8e2a-4e25-a168-45494371803a\">\n",
              "    <div class=\"colab-df-container\">\n",
              "      <div>\n",
              "<style scoped>\n",
              "    .dataframe tbody tr th:only-of-type {\n",
              "        vertical-align: middle;\n",
              "    }\n",
              "\n",
              "    .dataframe tbody tr th {\n",
              "        vertical-align: top;\n",
              "    }\n",
              "\n",
              "    .dataframe thead th {\n",
              "        text-align: right;\n",
              "    }\n",
              "</style>\n",
              "<table border=\"1\" class=\"dataframe\">\n",
              "  <thead>\n",
              "    <tr style=\"text-align: right;\">\n",
              "      <th></th>\n",
              "      <th>User_Id</th>\n",
              "      <th>Place_Id</th>\n",
              "      <th>Place_Ratings</th>\n",
              "    </tr>\n",
              "  </thead>\n",
              "  <tbody>\n",
              "    <tr>\n",
              "      <th>0</th>\n",
              "      <td>36</td>\n",
              "      <td>1</td>\n",
              "      <td>4</td>\n",
              "    </tr>\n",
              "    <tr>\n",
              "      <th>1</th>\n",
              "      <td>38</td>\n",
              "      <td>1</td>\n",
              "      <td>2</td>\n",
              "    </tr>\n",
              "    <tr>\n",
              "      <th>2</th>\n",
              "      <td>64</td>\n",
              "      <td>1</td>\n",
              "      <td>2</td>\n",
              "    </tr>\n",
              "    <tr>\n",
              "      <th>3</th>\n",
              "      <td>74</td>\n",
              "      <td>1</td>\n",
              "      <td>2</td>\n",
              "    </tr>\n",
              "    <tr>\n",
              "      <th>4</th>\n",
              "      <td>86</td>\n",
              "      <td>1</td>\n",
              "      <td>4</td>\n",
              "    </tr>\n",
              "  </tbody>\n",
              "</table>\n",
              "</div>\n",
              "      <button class=\"colab-df-convert\" onclick=\"convertToInteractive('df-d38a65b8-8e2a-4e25-a168-45494371803a')\"\n",
              "              title=\"Convert this dataframe to an interactive table.\"\n",
              "              style=\"display:none;\">\n",
              "        \n",
              "  <svg xmlns=\"http://www.w3.org/2000/svg\" height=\"24px\"viewBox=\"0 0 24 24\"\n",
              "       width=\"24px\">\n",
              "    <path d=\"M0 0h24v24H0V0z\" fill=\"none\"/>\n",
              "    <path d=\"M18.56 5.44l.94 2.06.94-2.06 2.06-.94-2.06-.94-.94-2.06-.94 2.06-2.06.94zm-11 1L8.5 8.5l.94-2.06 2.06-.94-2.06-.94L8.5 2.5l-.94 2.06-2.06.94zm10 10l.94 2.06.94-2.06 2.06-.94-2.06-.94-.94-2.06-.94 2.06-2.06.94z\"/><path d=\"M17.41 7.96l-1.37-1.37c-.4-.4-.92-.59-1.43-.59-.52 0-1.04.2-1.43.59L10.3 9.45l-7.72 7.72c-.78.78-.78 2.05 0 2.83L4 21.41c.39.39.9.59 1.41.59.51 0 1.02-.2 1.41-.59l7.78-7.78 2.81-2.81c.8-.78.8-2.07 0-2.86zM5.41 20L4 18.59l7.72-7.72 1.47 1.35L5.41 20z\"/>\n",
              "  </svg>\n",
              "      </button>\n",
              "      \n",
              "  <style>\n",
              "    .colab-df-container {\n",
              "      display:flex;\n",
              "      flex-wrap:wrap;\n",
              "      gap: 12px;\n",
              "    }\n",
              "\n",
              "    .colab-df-convert {\n",
              "      background-color: #E8F0FE;\n",
              "      border: none;\n",
              "      border-radius: 50%;\n",
              "      cursor: pointer;\n",
              "      display: none;\n",
              "      fill: #1967D2;\n",
              "      height: 32px;\n",
              "      padding: 0 0 0 0;\n",
              "      width: 32px;\n",
              "    }\n",
              "\n",
              "    .colab-df-convert:hover {\n",
              "      background-color: #E2EBFA;\n",
              "      box-shadow: 0px 1px 2px rgba(60, 64, 67, 0.3), 0px 1px 3px 1px rgba(60, 64, 67, 0.15);\n",
              "      fill: #174EA6;\n",
              "    }\n",
              "\n",
              "    [theme=dark] .colab-df-convert {\n",
              "      background-color: #3B4455;\n",
              "      fill: #D2E3FC;\n",
              "    }\n",
              "\n",
              "    [theme=dark] .colab-df-convert:hover {\n",
              "      background-color: #434B5C;\n",
              "      box-shadow: 0px 1px 3px 1px rgba(0, 0, 0, 0.15);\n",
              "      filter: drop-shadow(0px 1px 2px rgba(0, 0, 0, 0.3));\n",
              "      fill: #FFFFFF;\n",
              "    }\n",
              "  </style>\n",
              "\n",
              "      <script>\n",
              "        const buttonEl =\n",
              "          document.querySelector('#df-d38a65b8-8e2a-4e25-a168-45494371803a button.colab-df-convert');\n",
              "        buttonEl.style.display =\n",
              "          google.colab.kernel.accessAllowed ? 'block' : 'none';\n",
              "\n",
              "        async function convertToInteractive(key) {\n",
              "          const element = document.querySelector('#df-d38a65b8-8e2a-4e25-a168-45494371803a');\n",
              "          const dataTable =\n",
              "            await google.colab.kernel.invokeFunction('convertToInteractive',\n",
              "                                                     [key], {});\n",
              "          if (!dataTable) return;\n",
              "\n",
              "          const docLinkHtml = 'Like what you see? Visit the ' +\n",
              "            '<a target=\"_blank\" href=https://colab.research.google.com/notebooks/data_table.ipynb>data table notebook</a>'\n",
              "            + ' to learn more about interactive tables.';\n",
              "          element.innerHTML = '';\n",
              "          dataTable['output_type'] = 'display_data';\n",
              "          await google.colab.output.renderOutput(dataTable, element);\n",
              "          const docLink = document.createElement('div');\n",
              "          docLink.innerHTML = docLinkHtml;\n",
              "          element.appendChild(docLink);\n",
              "        }\n",
              "      </script>\n",
              "    </div>\n",
              "  </div>\n",
              "  "
            ]
          },
          "metadata": {},
          "execution_count": 6
        }
      ],
      "source": [
        "# Membaca dataset untuk dilakukan encoding\n",
        "\n",
        "df = rating.copy()\n",
        "df.head()"
      ]
    },
    {
      "cell_type": "markdown",
      "metadata": {
        "id": "6blewN2esQVx"
      },
      "source": [
        "#### Encode Data"
      ]
    },
    {
      "cell_type": "markdown",
      "metadata": {
        "id": "ULm38RFhsWZy"
      },
      "source": [
        "##### Membuat Fungsi Encode"
      ]
    },
    {
      "cell_type": "code",
      "execution_count": null,
      "metadata": {
        "id": "EChkAGmD92gx"
      },
      "outputs": [],
      "source": [
        "def dict_encoder(col, data=df):\n",
        "\n",
        "  # Mengubah kolom suatu dataframe menjadi list tanpa nilai yang sama\n",
        "  unique_val = data[col].unique().tolist()\n",
        "\n",
        "  # Melakukan encoding value kolom suatu dataframe ke angka\n",
        "  val_to_val_encoded = {x: i for i, x in enumerate(unique_val)}\n",
        "\n",
        "  # Melakukan proses encoding angka ke value dari kolom suatu dataframe\n",
        "  val_encoded_to_val = {i: x for i, x in enumerate(unique_val)}\n",
        "  return val_to_val_encoded, val_encoded_to_val"
      ]
    },
    {
      "cell_type": "markdown",
      "metadata": {
        "id": "q_WKW08Kskbg"
      },
      "source": [
        "##### Encoding dan Mapping Kolom User"
      ]
    },
    {
      "cell_type": "code",
      "execution_count": null,
      "metadata": {
        "id": "nPgPYIma92jo"
      },
      "outputs": [],
      "source": [
        "# Encoding User_Id\n",
        "user_to_user_encoded, user_encoded_to_user = dict_encoder('User_Id')\n",
        "\n",
        "# Mapping User_Id ke dataframe\n",
        "df['user'] = df['User_Id'].map(user_to_user_encoded)"
      ]
    },
    {
      "cell_type": "markdown",
      "metadata": {
        "id": "F0Pn6lvfstsg"
      },
      "source": [
        "##### Encoding dan Mapping kolom Place"
      ]
    },
    {
      "cell_type": "code",
      "execution_count": null,
      "metadata": {
        "id": "k0cr9jxt92mR"
      },
      "outputs": [],
      "source": [
        "# Encoding Place_Id\n",
        "place_to_place_encoded, place_encoded_to_place = dict_encoder('Place_Id')\n",
        "\n",
        "# Mapping Place_Id ke dataframe place\n",
        "df['place'] = df['Place_Id'].map(place_to_place_encoded)"
      ]
    },
    {
      "cell_type": "markdown",
      "metadata": {
        "id": "LzJSdYGks4-o"
      },
      "source": [
        "#### Cek Data Pemodelan"
      ]
    },
    {
      "cell_type": "code",
      "execution_count": null,
      "metadata": {
        "colab": {
          "base_uri": "https://localhost:8080/"
        },
        "id": "SR1K4fQQ92pJ",
        "outputId": "18bc6c73-88d4-4bf6-9f4e-d833a8ca833b"
      },
      "outputs": [
        {
          "output_type": "stream",
          "name": "stdout",
          "text": [
            "Number of User: 300, Number of Place: 437, Min Rating: 1.0, Max Rating: 5.0\n"
          ]
        }
      ],
      "source": [
        "# Mendapatkan jumlah user dan place\n",
        "num_users, num_place = len(user_to_user_encoded), len(place_to_place_encoded)\n",
        "\n",
        "# Mengubah rating menjadi nilai float\n",
        "df['Place_Ratings'] = df['Place_Ratings'].values.astype(np.float32)\n",
        "\n",
        "# Mendapatkan nilai minimum dan maksimum rating\n",
        "min_rating, max_rating = min(df['Place_Ratings']), max(df['Place_Ratings'])\n",
        "\n",
        "print(f'Number of User: {num_users}, Number of Place: {num_place}, Min Rating: {min_rating}, Max Rating: {max_rating}')"
      ]
    },
    {
      "cell_type": "code",
      "execution_count": null,
      "metadata": {
        "colab": {
          "base_uri": "https://localhost:8080/",
          "height": 112
        },
        "id": "5GoPgSRF92sB",
        "outputId": "b225cba3-44c7-4b7e-cf49-04fb80b5c034"
      },
      "outputs": [
        {
          "output_type": "execute_result",
          "data": {
            "text/plain": [
              "      User_Id  Place_Id  Place_Ratings  user  place\n",
              "6252      203       274            2.0    36    273\n",
              "4684      126       206            5.0   112    205"
            ],
            "text/html": [
              "\n",
              "  <div id=\"df-c74e7381-3eef-4ab2-be3f-62518f631aff\">\n",
              "    <div class=\"colab-df-container\">\n",
              "      <div>\n",
              "<style scoped>\n",
              "    .dataframe tbody tr th:only-of-type {\n",
              "        vertical-align: middle;\n",
              "    }\n",
              "\n",
              "    .dataframe tbody tr th {\n",
              "        vertical-align: top;\n",
              "    }\n",
              "\n",
              "    .dataframe thead th {\n",
              "        text-align: right;\n",
              "    }\n",
              "</style>\n",
              "<table border=\"1\" class=\"dataframe\">\n",
              "  <thead>\n",
              "    <tr style=\"text-align: right;\">\n",
              "      <th></th>\n",
              "      <th>User_Id</th>\n",
              "      <th>Place_Id</th>\n",
              "      <th>Place_Ratings</th>\n",
              "      <th>user</th>\n",
              "      <th>place</th>\n",
              "    </tr>\n",
              "  </thead>\n",
              "  <tbody>\n",
              "    <tr>\n",
              "      <th>6252</th>\n",
              "      <td>203</td>\n",
              "      <td>274</td>\n",
              "      <td>2.0</td>\n",
              "      <td>36</td>\n",
              "      <td>273</td>\n",
              "    </tr>\n",
              "    <tr>\n",
              "      <th>4684</th>\n",
              "      <td>126</td>\n",
              "      <td>206</td>\n",
              "      <td>5.0</td>\n",
              "      <td>112</td>\n",
              "      <td>205</td>\n",
              "    </tr>\n",
              "  </tbody>\n",
              "</table>\n",
              "</div>\n",
              "      <button class=\"colab-df-convert\" onclick=\"convertToInteractive('df-c74e7381-3eef-4ab2-be3f-62518f631aff')\"\n",
              "              title=\"Convert this dataframe to an interactive table.\"\n",
              "              style=\"display:none;\">\n",
              "        \n",
              "  <svg xmlns=\"http://www.w3.org/2000/svg\" height=\"24px\"viewBox=\"0 0 24 24\"\n",
              "       width=\"24px\">\n",
              "    <path d=\"M0 0h24v24H0V0z\" fill=\"none\"/>\n",
              "    <path d=\"M18.56 5.44l.94 2.06.94-2.06 2.06-.94-2.06-.94-.94-2.06-.94 2.06-2.06.94zm-11 1L8.5 8.5l.94-2.06 2.06-.94-2.06-.94L8.5 2.5l-.94 2.06-2.06.94zm10 10l.94 2.06.94-2.06 2.06-.94-2.06-.94-.94-2.06-.94 2.06-2.06.94z\"/><path d=\"M17.41 7.96l-1.37-1.37c-.4-.4-.92-.59-1.43-.59-.52 0-1.04.2-1.43.59L10.3 9.45l-7.72 7.72c-.78.78-.78 2.05 0 2.83L4 21.41c.39.39.9.59 1.41.59.51 0 1.02-.2 1.41-.59l7.78-7.78 2.81-2.81c.8-.78.8-2.07 0-2.86zM5.41 20L4 18.59l7.72-7.72 1.47 1.35L5.41 20z\"/>\n",
              "  </svg>\n",
              "      </button>\n",
              "      \n",
              "  <style>\n",
              "    .colab-df-container {\n",
              "      display:flex;\n",
              "      flex-wrap:wrap;\n",
              "      gap: 12px;\n",
              "    }\n",
              "\n",
              "    .colab-df-convert {\n",
              "      background-color: #E8F0FE;\n",
              "      border: none;\n",
              "      border-radius: 50%;\n",
              "      cursor: pointer;\n",
              "      display: none;\n",
              "      fill: #1967D2;\n",
              "      height: 32px;\n",
              "      padding: 0 0 0 0;\n",
              "      width: 32px;\n",
              "    }\n",
              "\n",
              "    .colab-df-convert:hover {\n",
              "      background-color: #E2EBFA;\n",
              "      box-shadow: 0px 1px 2px rgba(60, 64, 67, 0.3), 0px 1px 3px 1px rgba(60, 64, 67, 0.15);\n",
              "      fill: #174EA6;\n",
              "    }\n",
              "\n",
              "    [theme=dark] .colab-df-convert {\n",
              "      background-color: #3B4455;\n",
              "      fill: #D2E3FC;\n",
              "    }\n",
              "\n",
              "    [theme=dark] .colab-df-convert:hover {\n",
              "      background-color: #434B5C;\n",
              "      box-shadow: 0px 1px 3px 1px rgba(0, 0, 0, 0.15);\n",
              "      filter: drop-shadow(0px 1px 2px rgba(0, 0, 0, 0.3));\n",
              "      fill: #FFFFFF;\n",
              "    }\n",
              "  </style>\n",
              "\n",
              "      <script>\n",
              "        const buttonEl =\n",
              "          document.querySelector('#df-c74e7381-3eef-4ab2-be3f-62518f631aff button.colab-df-convert');\n",
              "        buttonEl.style.display =\n",
              "          google.colab.kernel.accessAllowed ? 'block' : 'none';\n",
              "\n",
              "        async function convertToInteractive(key) {\n",
              "          const element = document.querySelector('#df-c74e7381-3eef-4ab2-be3f-62518f631aff');\n",
              "          const dataTable =\n",
              "            await google.colab.kernel.invokeFunction('convertToInteractive',\n",
              "                                                     [key], {});\n",
              "          if (!dataTable) return;\n",
              "\n",
              "          const docLinkHtml = 'Like what you see? Visit the ' +\n",
              "            '<a target=\"_blank\" href=https://colab.research.google.com/notebooks/data_table.ipynb>data table notebook</a>'\n",
              "            + ' to learn more about interactive tables.';\n",
              "          element.innerHTML = '';\n",
              "          dataTable['output_type'] = 'display_data';\n",
              "          await google.colab.output.renderOutput(dataTable, element);\n",
              "          const docLink = document.createElement('div');\n",
              "          docLink.innerHTML = docLinkHtml;\n",
              "          element.appendChild(docLink);\n",
              "        }\n",
              "      </script>\n",
              "    </div>\n",
              "  </div>\n",
              "  "
            ]
          },
          "metadata": {},
          "execution_count": 11
        }
      ],
      "source": [
        "# Mengacak dataset\n",
        "df = df.sample(frac=1, random_state=42)\n",
        "df.head(2)"
      ]
    },
    {
      "cell_type": "markdown",
      "metadata": {
        "id": "lbYYsac-tJ5Y"
      },
      "source": [
        "## Pemodelan ML (RecommenderNet)"
      ]
    },
    {
      "cell_type": "markdown",
      "metadata": {
        "id": "_SdlJR06tWnD"
      },
      "source": [
        "#### Membagi Data Train dan Test"
      ]
    },
    {
      "cell_type": "code",
      "execution_count": null,
      "metadata": {
        "id": "UE3C9QEN92u5"
      },
      "outputs": [],
      "source": [
        "# Membuat variabel x untuk mencocokkan data user dan place menjadi satu value\n",
        "x = df[['user', 'place']].values\n",
        "\n",
        "# Membuat variabel y untuk membuat rating dari hasil\n",
        "y = df['Place_Ratings'].apply(lambda x: (x - min_rating) / (max_rating - min_rating)).values\n",
        "\n",
        "# Membagi menjadi 70% data train dan 30% data validasi\n",
        "train_indices = int(0.7 * df.shape[0])\n",
        "x_train, x_val, y_train, y_val = (\n",
        "    x[:train_indices],\n",
        "    x[train_indices:],\n",
        "    y[:train_indices],\n",
        "    y[train_indices:]\n",
        ")"
      ]
    },
    {
      "cell_type": "markdown",
      "metadata": {
        "id": "tb05AMC2tfOg"
      },
      "source": [
        "#### Train Model"
      ]
    },
    {
      "cell_type": "markdown",
      "metadata": {
        "id": "Ru1wKGxDtuBA"
      },
      "source": [
        "##### Inisiasi Model"
      ]
    },
    {
      "cell_type": "code",
      "execution_count": null,
      "metadata": {
        "id": "aQa_CIRr92x8"
      },
      "outputs": [],
      "source": [
        "from sklearn.model_selection import train_test_split\n",
        "#model = tf.keras.Sequential()\n",
        "#x_train, x_val, y_train, y_val = train_test_split(x, y, test_size=0.1, random_state=42)\n",
        "\n",
        "EMBEDDING_SIZE = 100\n",
        "\n",
        "class RecommenderNet(tf.keras.Model):\n",
        "  def __init__(self, num_users, num_place, embedding_size, **kwargs):\n",
        "    super(RecommenderNet, self).__init__(**kwargs)\n",
        "    self.num_users = num_users\n",
        "    self.num_place = num_place\n",
        "    self.embedding_size = embedding_size\n",
        "    self.user_embedding = layers.Embedding(\n",
        "        num_users,\n",
        "        embedding_size,\n",
        "        embeddings_initializer = 'he_normal',\n",
        "        embeddings_regularizer = keras.regularizers.l2(1e-6)\n",
        "    )\n",
        "    self.user_bias = layers.Embedding(num_users, 1)\n",
        "    self.places_embedding = layers.Embedding(\n",
        "        num_place,\n",
        "        embedding_size,\n",
        "        embeddings_initializer = 'he_normal',\n",
        "        embeddings_regularizer = keras.regularizers.l2(1e-6)\n",
        "    )\n",
        "    self.places_bias = layers.Embedding(num_place, 1)\n",
        "\n",
        "    # Additional layers\n",
        "    self.concat_layer = Concatenate()\n",
        "    self.dense_1 = Dense(128, activation='relu')\n",
        "    self.dropout_1 = Dropout(0.2)\n",
        "    self.batch_norm_1 = BatchNormalization()\n",
        "    self.dense_2 = Dense(64, activation='relu')\n",
        "    self.dropout_2 = Dropout(0.2)\n",
        "    self.batch_norm_2 = BatchNormalization()\n",
        "    self.dense_output = Dense(1, activation='sigmoid')\n",
        "\n",
        "  def call(self, inputs):\n",
        "    user_vector = self.user_embedding(inputs[:,0])\n",
        "    user_bias = self.user_bias(inputs[:, 0])\n",
        "    places_vector = self.places_embedding(inputs[:, 1])\n",
        "    places_bias = self.places_bias(inputs[:, 1])\n",
        "\n",
        "    # Concatenate the embeddings\n",
        "    x = self.concat_layer([user_vector, places_vector])\n",
        "\n",
        "    # Add one or more hidden layers\n",
        "    x = self.dense_1(x)\n",
        "    x = self.dropout_1(x)\n",
        "    x = self.batch_norm_1(x)\n",
        "    x = self.dense_2(x)\n",
        "    x = self.dropout_2(x)\n",
        "    x = self.batch_norm_2(x)\n",
        "\n",
        "    # Output layer\n",
        "    x = self.dense_output(x)\n",
        "    return x\n",
        "    #return tf.nn.sigmoid(x)\n",
        "\n",
        "model = RecommenderNet(num_users, num_place, EMBEDDING_SIZE)\n",
        "model.compile(\n",
        "    loss = tf.keras.losses.BinaryCrossentropy(),\n",
        "    optimizer = keras.optimizers.Adam(learning_rate=0.0001),\n",
        "    metrics=[tf.keras.metrics.RootMeanSquaredError()]\n",
        ")\n",
        "\n"
      ]
    },
    {
      "cell_type": "markdown",
      "metadata": {
        "id": "rhuZBr4Vt5yQ"
      },
      "source": [
        "##### Training Proses"
      ]
    },
    {
      "cell_type": "code",
      "execution_count": null,
      "metadata": {
        "colab": {
          "base_uri": "https://localhost:8080/"
        },
        "id": "aL3TnOwe920p",
        "outputId": "5f05b40a-2c39-4083-d8aa-94d92c9beae7"
      },
      "outputs": [
        {
          "output_type": "stream",
          "name": "stdout",
          "text": [
            "Epoch 1/100\n"
          ]
        },
        {
          "output_type": "stream",
          "name": "stderr",
          "text": [
            "WARNING:tensorflow:Gradients do not exist for variables ['recommender_net_5/embedding_21/embeddings:0', 'recommender_net_5/embedding_23/embeddings:0'] when minimizing the loss. If you're using `model.compile()`, did you forget to provide a `loss` argument?\n",
            "WARNING:tensorflow:Gradients do not exist for variables ['recommender_net_5/embedding_21/embeddings:0', 'recommender_net_5/embedding_23/embeddings:0'] when minimizing the loss. If you're using `model.compile()`, did you forget to provide a `loss` argument?\n",
            "WARNING:tensorflow:Gradients do not exist for variables ['recommender_net_5/embedding_21/embeddings:0', 'recommender_net_5/embedding_23/embeddings:0'] when minimizing the loss. If you're using `model.compile()`, did you forget to provide a `loss` argument?\n",
            "WARNING:tensorflow:Gradients do not exist for variables ['recommender_net_5/embedding_21/embeddings:0', 'recommender_net_5/embedding_23/embeddings:0'] when minimizing the loss. If you're using `model.compile()`, did you forget to provide a `loss` argument?\n"
          ]
        },
        {
          "output_type": "stream",
          "name": "stdout",
          "text": [
            "110/110 [==============================] - 2s 5ms/step - loss: 0.8491 - root_mean_squared_error: 0.4177 - val_loss: 0.6945 - val_root_mean_squared_error: 0.3444\n",
            "Epoch 2/100\n",
            "110/110 [==============================] - 0s 4ms/step - loss: 0.8090 - root_mean_squared_error: 0.4022 - val_loss: 0.6956 - val_root_mean_squared_error: 0.3452\n",
            "Epoch 3/100\n",
            "110/110 [==============================] - 0s 3ms/step - loss: 0.7825 - root_mean_squared_error: 0.3921 - val_loss: 0.6976 - val_root_mean_squared_error: 0.3466\n",
            "Epoch 4/100\n",
            "110/110 [==============================] - 0s 4ms/step - loss: 0.7715 - root_mean_squared_error: 0.3873 - val_loss: 0.7014 - val_root_mean_squared_error: 0.3492\n",
            "Epoch 5/100\n",
            "110/110 [==============================] - 0s 4ms/step - loss: 0.7427 - root_mean_squared_error: 0.3707 - val_loss: 0.7079 - val_root_mean_squared_error: 0.3534\n",
            "Epoch 6/100\n",
            "110/110 [==============================] - 1s 5ms/step - loss: 0.7335 - root_mean_squared_error: 0.3664 - val_loss: 0.7145 - val_root_mean_squared_error: 0.3575\n",
            "Epoch 7/100\n",
            "110/110 [==============================] - 1s 5ms/step - loss: 0.7278 - root_mean_squared_error: 0.3639 - val_loss: 0.7170 - val_root_mean_squared_error: 0.3590\n",
            "Epoch 8/100\n",
            "110/110 [==============================] - 1s 6ms/step - loss: 0.7217 - root_mean_squared_error: 0.3601 - val_loss: 0.7177 - val_root_mean_squared_error: 0.3594\n",
            "Epoch 9/100\n",
            "110/110 [==============================] - 0s 4ms/step - loss: 0.7164 - root_mean_squared_error: 0.3569 - val_loss: 0.7175 - val_root_mean_squared_error: 0.3593\n",
            "Epoch 10/100\n",
            "110/110 [==============================] - 0s 4ms/step - loss: 0.7094 - root_mean_squared_error: 0.3529 - val_loss: 0.7168 - val_root_mean_squared_error: 0.3589\n",
            "Epoch 11/100\n",
            "110/110 [==============================] - 0s 4ms/step - loss: 0.7011 - root_mean_squared_error: 0.3481 - val_loss: 0.7169 - val_root_mean_squared_error: 0.3590\n",
            "Epoch 12/100\n",
            "110/110 [==============================] - 0s 4ms/step - loss: 0.6955 - root_mean_squared_error: 0.3447 - val_loss: 0.7167 - val_root_mean_squared_error: 0.3589\n",
            "Epoch 13/100\n",
            "110/110 [==============================] - 0s 4ms/step - loss: 0.6883 - root_mean_squared_error: 0.3401 - val_loss: 0.7168 - val_root_mean_squared_error: 0.3589\n",
            "Epoch 14/100\n",
            "110/110 [==============================] - 0s 4ms/step - loss: 0.6866 - root_mean_squared_error: 0.3388 - val_loss: 0.7168 - val_root_mean_squared_error: 0.3589\n",
            "Epoch 15/100\n",
            "110/110 [==============================] - 0s 4ms/step - loss: 0.6801 - root_mean_squared_error: 0.3344 - val_loss: 0.7167 - val_root_mean_squared_error: 0.3589\n",
            "Epoch 16/100\n",
            "110/110 [==============================] - 0s 4ms/step - loss: 0.6786 - root_mean_squared_error: 0.3337 - val_loss: 0.7173 - val_root_mean_squared_error: 0.3592\n",
            "Epoch 17/100\n",
            "110/110 [==============================] - 0s 4ms/step - loss: 0.6692 - root_mean_squared_error: 0.3269 - val_loss: 0.7180 - val_root_mean_squared_error: 0.3597\n",
            "Epoch 18/100\n",
            "110/110 [==============================] - 0s 4ms/step - loss: 0.6678 - root_mean_squared_error: 0.3263 - val_loss: 0.7181 - val_root_mean_squared_error: 0.3597\n",
            "Epoch 19/100\n",
            "110/110 [==============================] - 0s 4ms/step - loss: 0.6605 - root_mean_squared_error: 0.3214 - val_loss: 0.7186 - val_root_mean_squared_error: 0.3600\n",
            "Epoch 20/100\n",
            "110/110 [==============================] - 0s 4ms/step - loss: 0.6619 - root_mean_squared_error: 0.3220 - val_loss: 0.7192 - val_root_mean_squared_error: 0.3604\n",
            "Epoch 21/100\n",
            "110/110 [==============================] - 0s 4ms/step - loss: 0.6549 - root_mean_squared_error: 0.3173 - val_loss: 0.7198 - val_root_mean_squared_error: 0.3608\n",
            "Epoch 22/100\n",
            "110/110 [==============================] - 0s 4ms/step - loss: 0.6525 - root_mean_squared_error: 0.3154 - val_loss: 0.7211 - val_root_mean_squared_error: 0.3615\n",
            "Epoch 23/100\n",
            "110/110 [==============================] - 0s 4ms/step - loss: 0.6524 - root_mean_squared_error: 0.3156 - val_loss: 0.7213 - val_root_mean_squared_error: 0.3616\n",
            "Epoch 24/100\n",
            "110/110 [==============================] - 0s 4ms/step - loss: 0.6506 - root_mean_squared_error: 0.3142 - val_loss: 0.7221 - val_root_mean_squared_error: 0.3620\n",
            "Epoch 25/100\n",
            "110/110 [==============================] - 0s 4ms/step - loss: 0.6450 - root_mean_squared_error: 0.3104 - val_loss: 0.7235 - val_root_mean_squared_error: 0.3628\n",
            "Epoch 26/100\n",
            "110/110 [==============================] - 0s 4ms/step - loss: 0.6418 - root_mean_squared_error: 0.3079 - val_loss: 0.7252 - val_root_mean_squared_error: 0.3638\n",
            "Epoch 27/100\n",
            "110/110 [==============================] - 0s 4ms/step - loss: 0.6353 - root_mean_squared_error: 0.3030 - val_loss: 0.7267 - val_root_mean_squared_error: 0.3647\n",
            "Epoch 28/100\n",
            "110/110 [==============================] - 0s 4ms/step - loss: 0.6367 - root_mean_squared_error: 0.3042 - val_loss: 0.7270 - val_root_mean_squared_error: 0.3648\n",
            "Epoch 29/100\n",
            "110/110 [==============================] - 0s 4ms/step - loss: 0.6352 - root_mean_squared_error: 0.3033 - val_loss: 0.7280 - val_root_mean_squared_error: 0.3654\n",
            "Epoch 30/100\n",
            "110/110 [==============================] - 1s 5ms/step - loss: 0.6298 - root_mean_squared_error: 0.2988 - val_loss: 0.7299 - val_root_mean_squared_error: 0.3664\n",
            "Epoch 31/100\n",
            "110/110 [==============================] - 1s 5ms/step - loss: 0.6285 - root_mean_squared_error: 0.2984 - val_loss: 0.7306 - val_root_mean_squared_error: 0.3668\n",
            "Epoch 32/100\n",
            "110/110 [==============================] - 1s 5ms/step - loss: 0.6241 - root_mean_squared_error: 0.2946 - val_loss: 0.7321 - val_root_mean_squared_error: 0.3675\n",
            "Epoch 33/100\n",
            "110/110 [==============================] - 1s 5ms/step - loss: 0.6184 - root_mean_squared_error: 0.2905 - val_loss: 0.7334 - val_root_mean_squared_error: 0.3682\n",
            "Epoch 34/100\n",
            "110/110 [==============================] - 1s 5ms/step - loss: 0.6198 - root_mean_squared_error: 0.2914 - val_loss: 0.7348 - val_root_mean_squared_error: 0.3690\n",
            "Epoch 35/100\n",
            "110/110 [==============================] - 0s 3ms/step - loss: 0.6154 - root_mean_squared_error: 0.2878 - val_loss: 0.7362 - val_root_mean_squared_error: 0.3697\n",
            "Epoch 36/100\n",
            "110/110 [==============================] - 0s 4ms/step - loss: 0.6136 - root_mean_squared_error: 0.2869 - val_loss: 0.7382 - val_root_mean_squared_error: 0.3708\n",
            "Epoch 37/100\n",
            "110/110 [==============================] - 0s 4ms/step - loss: 0.6079 - root_mean_squared_error: 0.2823 - val_loss: 0.7394 - val_root_mean_squared_error: 0.3714\n",
            "Epoch 38/100\n",
            "110/110 [==============================] - 0s 4ms/step - loss: 0.6053 - root_mean_squared_error: 0.2797 - val_loss: 0.7409 - val_root_mean_squared_error: 0.3721\n",
            "Epoch 39/100\n",
            "110/110 [==============================] - 0s 4ms/step - loss: 0.6069 - root_mean_squared_error: 0.2818 - val_loss: 0.7421 - val_root_mean_squared_error: 0.3727\n",
            "Epoch 40/100\n",
            "110/110 [==============================] - 0s 4ms/step - loss: 0.6020 - root_mean_squared_error: 0.2776 - val_loss: 0.7444 - val_root_mean_squared_error: 0.3739\n",
            "Epoch 41/100\n",
            "110/110 [==============================] - 0s 4ms/step - loss: 0.5983 - root_mean_squared_error: 0.2749 - val_loss: 0.7464 - val_root_mean_squared_error: 0.3750\n",
            "Epoch 42/100\n",
            "110/110 [==============================] - 0s 4ms/step - loss: 0.5907 - root_mean_squared_error: 0.2687 - val_loss: 0.7481 - val_root_mean_squared_error: 0.3759\n",
            "Epoch 43/100\n",
            "110/110 [==============================] - 1s 5ms/step - loss: 0.5938 - root_mean_squared_error: 0.2712 - val_loss: 0.7499 - val_root_mean_squared_error: 0.3768\n",
            "Epoch 44/100\n",
            "110/110 [==============================] - 0s 4ms/step - loss: 0.5891 - root_mean_squared_error: 0.2678 - val_loss: 0.7515 - val_root_mean_squared_error: 0.3775\n",
            "Epoch 45/100\n",
            "110/110 [==============================] - 0s 4ms/step - loss: 0.5844 - root_mean_squared_error: 0.2633 - val_loss: 0.7521 - val_root_mean_squared_error: 0.3777\n",
            "Epoch 46/100\n",
            "110/110 [==============================] - 0s 4ms/step - loss: 0.5819 - root_mean_squared_error: 0.2614 - val_loss: 0.7535 - val_root_mean_squared_error: 0.3784\n",
            "Epoch 47/100\n",
            "110/110 [==============================] - 0s 4ms/step - loss: 0.5816 - root_mean_squared_error: 0.2614 - val_loss: 0.7557 - val_root_mean_squared_error: 0.3794\n",
            "Epoch 48/100\n",
            "110/110 [==============================] - 1s 5ms/step - loss: 0.5791 - root_mean_squared_error: 0.2596 - val_loss: 0.7583 - val_root_mean_squared_error: 0.3806\n",
            "Epoch 49/100\n",
            "110/110 [==============================] - 1s 5ms/step - loss: 0.5746 - root_mean_squared_error: 0.2555 - val_loss: 0.7608 - val_root_mean_squared_error: 0.3818\n",
            "Epoch 50/100\n",
            "110/110 [==============================] - 0s 4ms/step - loss: 0.5710 - root_mean_squared_error: 0.2527 - val_loss: 0.7627 - val_root_mean_squared_error: 0.3826\n",
            "Epoch 51/100\n",
            "110/110 [==============================] - 0s 4ms/step - loss: 0.5724 - root_mean_squared_error: 0.2546 - val_loss: 0.7644 - val_root_mean_squared_error: 0.3833\n",
            "Epoch 52/100\n",
            "110/110 [==============================] - 0s 4ms/step - loss: 0.5682 - root_mean_squared_error: 0.2501 - val_loss: 0.7643 - val_root_mean_squared_error: 0.3833\n",
            "Epoch 53/100\n",
            "110/110 [==============================] - 0s 4ms/step - loss: 0.5649 - root_mean_squared_error: 0.2478 - val_loss: 0.7665 - val_root_mean_squared_error: 0.3843\n",
            "Epoch 54/100\n",
            "110/110 [==============================] - 0s 4ms/step - loss: 0.5613 - root_mean_squared_error: 0.2445 - val_loss: 0.7682 - val_root_mean_squared_error: 0.3852\n",
            "Epoch 55/100\n",
            "110/110 [==============================] - 1s 5ms/step - loss: 0.5599 - root_mean_squared_error: 0.2439 - val_loss: 0.7709 - val_root_mean_squared_error: 0.3864\n",
            "Epoch 56/100\n",
            "110/110 [==============================] - 1s 6ms/step - loss: 0.5571 - root_mean_squared_error: 0.2413 - val_loss: 0.7726 - val_root_mean_squared_error: 0.3872\n",
            "Epoch 57/100\n",
            "110/110 [==============================] - 1s 5ms/step - loss: 0.5564 - root_mean_squared_error: 0.2402 - val_loss: 0.7745 - val_root_mean_squared_error: 0.3880\n",
            "Epoch 58/100\n",
            "110/110 [==============================] - 1s 5ms/step - loss: 0.5556 - root_mean_squared_error: 0.2406 - val_loss: 0.7776 - val_root_mean_squared_error: 0.3894\n",
            "Epoch 59/100\n",
            "110/110 [==============================] - 1s 5ms/step - loss: 0.5524 - root_mean_squared_error: 0.2370 - val_loss: 0.7795 - val_root_mean_squared_error: 0.3903\n",
            "Epoch 60/100\n",
            "110/110 [==============================] - 0s 4ms/step - loss: 0.5481 - root_mean_squared_error: 0.2334 - val_loss: 0.7814 - val_root_mean_squared_error: 0.3909\n",
            "Epoch 61/100\n",
            "110/110 [==============================] - 0s 4ms/step - loss: 0.5483 - root_mean_squared_error: 0.2333 - val_loss: 0.7819 - val_root_mean_squared_error: 0.3911\n",
            "Epoch 62/100\n",
            "110/110 [==============================] - 0s 4ms/step - loss: 0.5486 - root_mean_squared_error: 0.2334 - val_loss: 0.7835 - val_root_mean_squared_error: 0.3918\n",
            "Epoch 63/100\n",
            "110/110 [==============================] - 0s 4ms/step - loss: 0.5438 - root_mean_squared_error: 0.2300 - val_loss: 0.7850 - val_root_mean_squared_error: 0.3924\n",
            "Epoch 64/100\n",
            "110/110 [==============================] - 0s 4ms/step - loss: 0.5422 - root_mean_squared_error: 0.2285 - val_loss: 0.7876 - val_root_mean_squared_error: 0.3934\n",
            "Epoch 65/100\n",
            "110/110 [==============================] - 0s 4ms/step - loss: 0.5402 - root_mean_squared_error: 0.2263 - val_loss: 0.7898 - val_root_mean_squared_error: 0.3943\n",
            "Epoch 66/100\n",
            "110/110 [==============================] - 0s 4ms/step - loss: 0.5388 - root_mean_squared_error: 0.2258 - val_loss: 0.7915 - val_root_mean_squared_error: 0.3951\n",
            "Epoch 67/100\n",
            "110/110 [==============================] - 0s 4ms/step - loss: 0.5370 - root_mean_squared_error: 0.2233 - val_loss: 0.7917 - val_root_mean_squared_error: 0.3951\n",
            "Epoch 68/100\n",
            "110/110 [==============================] - 0s 4ms/step - loss: 0.5359 - root_mean_squared_error: 0.2231 - val_loss: 0.7955 - val_root_mean_squared_error: 0.3967\n",
            "Epoch 69/100\n",
            "110/110 [==============================] - 0s 4ms/step - loss: 0.5277 - root_mean_squared_error: 0.2152 - val_loss: 0.7971 - val_root_mean_squared_error: 0.3972\n",
            "Epoch 70/100\n",
            "110/110 [==============================] - 0s 4ms/step - loss: 0.5304 - root_mean_squared_error: 0.2173 - val_loss: 0.7987 - val_root_mean_squared_error: 0.3980\n",
            "Epoch 71/100\n",
            "110/110 [==============================] - 0s 4ms/step - loss: 0.5305 - root_mean_squared_error: 0.2181 - val_loss: 0.8012 - val_root_mean_squared_error: 0.3989\n",
            "Epoch 72/100\n",
            "110/110 [==============================] - 0s 4ms/step - loss: 0.5287 - root_mean_squared_error: 0.2163 - val_loss: 0.8018 - val_root_mean_squared_error: 0.3990\n",
            "Epoch 73/100\n",
            "110/110 [==============================] - 0s 4ms/step - loss: 0.5238 - root_mean_squared_error: 0.2124 - val_loss: 0.8017 - val_root_mean_squared_error: 0.3988\n",
            "Epoch 74/100\n",
            "110/110 [==============================] - 0s 4ms/step - loss: 0.5243 - root_mean_squared_error: 0.2120 - val_loss: 0.8034 - val_root_mean_squared_error: 0.3995\n",
            "Epoch 75/100\n",
            "110/110 [==============================] - 0s 4ms/step - loss: 0.5260 - root_mean_squared_error: 0.2146 - val_loss: 0.8059 - val_root_mean_squared_error: 0.4005\n",
            "Epoch 76/100\n",
            "110/110 [==============================] - 0s 4ms/step - loss: 0.5237 - root_mean_squared_error: 0.2119 - val_loss: 0.8063 - val_root_mean_squared_error: 0.4005\n",
            "Epoch 77/100\n",
            "110/110 [==============================] - 0s 4ms/step - loss: 0.5199 - root_mean_squared_error: 0.2084 - val_loss: 0.8075 - val_root_mean_squared_error: 0.4009\n",
            "Epoch 78/100\n",
            "110/110 [==============================] - 0s 4ms/step - loss: 0.5199 - root_mean_squared_error: 0.2089 - val_loss: 0.8075 - val_root_mean_squared_error: 0.4009\n",
            "Epoch 79/100\n",
            "110/110 [==============================] - 0s 4ms/step - loss: 0.5187 - root_mean_squared_error: 0.2072 - val_loss: 0.8075 - val_root_mean_squared_error: 0.4006\n",
            "Epoch 80/100\n",
            "110/110 [==============================] - 0s 4ms/step - loss: 0.5150 - root_mean_squared_error: 0.2037 - val_loss: 0.8109 - val_root_mean_squared_error: 0.4019\n",
            "Epoch 81/100\n",
            "110/110 [==============================] - 1s 5ms/step - loss: 0.5193 - root_mean_squared_error: 0.2080 - val_loss: 0.8114 - val_root_mean_squared_error: 0.4020\n",
            "Epoch 82/100\n",
            "110/110 [==============================] - 1s 5ms/step - loss: 0.5178 - root_mean_squared_error: 0.2067 - val_loss: 0.8143 - val_root_mean_squared_error: 0.4031\n",
            "Epoch 83/100\n",
            "110/110 [==============================] - 1s 5ms/step - loss: 0.5129 - root_mean_squared_error: 0.2018 - val_loss: 0.8133 - val_root_mean_squared_error: 0.4025\n",
            "Epoch 84/100\n",
            "110/110 [==============================] - 0s 4ms/step - loss: 0.5124 - root_mean_squared_error: 0.2014 - val_loss: 0.8162 - val_root_mean_squared_error: 0.4035\n",
            "Epoch 85/100\n",
            "110/110 [==============================] - 0s 4ms/step - loss: 0.5120 - root_mean_squared_error: 0.2015 - val_loss: 0.8173 - val_root_mean_squared_error: 0.4040\n",
            "Epoch 86/100\n",
            "110/110 [==============================] - 0s 4ms/step - loss: 0.5092 - root_mean_squared_error: 0.1986 - val_loss: 0.8194 - val_root_mean_squared_error: 0.4048\n",
            "Epoch 87/100\n",
            "110/110 [==============================] - 0s 4ms/step - loss: 0.5100 - root_mean_squared_error: 0.1997 - val_loss: 0.8215 - val_root_mean_squared_error: 0.4055\n",
            "Epoch 88/100\n",
            "110/110 [==============================] - 0s 5ms/step - loss: 0.5092 - root_mean_squared_error: 0.1985 - val_loss: 0.8230 - val_root_mean_squared_error: 0.4058\n",
            "Epoch 89/100\n",
            "110/110 [==============================] - 0s 4ms/step - loss: 0.5071 - root_mean_squared_error: 0.1967 - val_loss: 0.8227 - val_root_mean_squared_error: 0.4057\n",
            "Epoch 90/100\n",
            "110/110 [==============================] - 0s 4ms/step - loss: 0.5044 - root_mean_squared_error: 0.1944 - val_loss: 0.8249 - val_root_mean_squared_error: 0.4064\n",
            "Epoch 91/100\n",
            "110/110 [==============================] - 0s 4ms/step - loss: 0.5042 - root_mean_squared_error: 0.1934 - val_loss: 0.8230 - val_root_mean_squared_error: 0.4059\n",
            "Epoch 92/100\n",
            "110/110 [==============================] - 0s 4ms/step - loss: 0.5081 - root_mean_squared_error: 0.1983 - val_loss: 0.8262 - val_root_mean_squared_error: 0.4069\n",
            "Epoch 93/100\n",
            "110/110 [==============================] - 0s 4ms/step - loss: 0.5023 - root_mean_squared_error: 0.1919 - val_loss: 0.8252 - val_root_mean_squared_error: 0.4065\n",
            "Epoch 94/100\n",
            "110/110 [==============================] - 0s 4ms/step - loss: 0.5021 - root_mean_squared_error: 0.1931 - val_loss: 0.8241 - val_root_mean_squared_error: 0.4062\n",
            "Epoch 95/100\n",
            "110/110 [==============================] - 0s 4ms/step - loss: 0.5015 - root_mean_squared_error: 0.1910 - val_loss: 0.8263 - val_root_mean_squared_error: 0.4069\n",
            "Epoch 96/100\n",
            "110/110 [==============================] - 0s 4ms/step - loss: 0.4980 - root_mean_squared_error: 0.1885 - val_loss: 0.8297 - val_root_mean_squared_error: 0.4081\n",
            "Epoch 97/100\n",
            "110/110 [==============================] - 0s 4ms/step - loss: 0.5015 - root_mean_squared_error: 0.1918 - val_loss: 0.8313 - val_root_mean_squared_error: 0.4084\n",
            "Epoch 98/100\n",
            "110/110 [==============================] - 0s 4ms/step - loss: 0.4978 - root_mean_squared_error: 0.1880 - val_loss: 0.8317 - val_root_mean_squared_error: 0.4085\n",
            "Epoch 99/100\n",
            "110/110 [==============================] - 1s 5ms/step - loss: 0.5008 - root_mean_squared_error: 0.1910 - val_loss: 0.8334 - val_root_mean_squared_error: 0.4090\n",
            "Epoch 100/100\n",
            "110/110 [==============================] - 0s 4ms/step - loss: 0.4955 - root_mean_squared_error: 0.1864 - val_loss: 0.8342 - val_root_mean_squared_error: 0.4093\n"
          ]
        }
      ],
      "source": [
        "history = model.fit(\n",
        "    x = x_train,\n",
        "    y = y_train,\n",
        "    batch_size=64,\n",
        "    epochs = 100,\n",
        "    verbose=1,\n",
        "    validation_data = (x_val, y_val)\n",
        ")\n"
      ]
    },
    {
      "cell_type": "markdown",
      "metadata": {
        "id": "ILj3sGBWbMeD"
      },
      "source": [
        "##### Plotting"
      ]
    },
    {
      "cell_type": "code",
      "execution_count": null,
      "metadata": {
        "colab": {
          "base_uri": "https://localhost:8080/",
          "height": 480
        },
        "id": "rK0g-a3WMsTb",
        "outputId": "32d30458-c8f6-42e8-e50a-3aec33d30201"
      },
      "outputs": [
        {
          "output_type": "display_data",
          "data": {
            "text/plain": [
              "<Figure size 640x480 with 1 Axes>"
            ],
            "image/png": "[encoded data removed]"
          },
          "metadata": {}
        }
      ],
      "source": [
        "plt.plot(history.history['loss'])\n",
        "plt.plot(history.history['val_loss'])\n",
        "plt.title('model loss')\n",
        "plt.ylabel('loss')\n",
        "plt.xlabel('epoch')\n",
        "plt.legend(['train', 'test'], loc='upper left')\n",
        "plt.show()"
      ]
    },
    {
      "cell_type": "markdown",
      "metadata": {
        "id": "IVYTvgMAbgFE"
      },
      "source": [
        "##### Convert Model"
      ]
    },
    {
      "cell_type": "code",
      "execution_count": null,
      "metadata": {
        "colab": {
          "base_uri": "https://localhost:8080/"
        },
        "id": "zkH3uaGwbapN",
        "outputId": "a6dafbab-9b7e-4f15-cdc4-e7d0feef73c5"
      },
      "outputs": [
        {
          "name": "stderr",
          "output_type": "stream",
          "text": [
            "WARNING:absl:Found untraced functions such as _update_step_xla while saving (showing 1 of 1). These functions will not be directly callable after loading.\n"
          ]
        }
      ],
      "source": [
        "#model .pb\n",
        "model.save('capstone_model', save_format='tf')"
      ]
    },
    {
      "cell_type": "code",
      "execution_count": null,
      "metadata": {
        "id": "8mWdkl-bcA5T"
      },
      "outputs": [],
      "source": [
        "#model .h5\n",
        "model.save_weights('model.h5')"
      ]
    },
    {
      "cell_type": "code",
      "source": [
        "#model .pkl\n",
        "joblib.dump(model, 'modelfix')"
      ],
      "metadata": {
        "colab": {
          "base_uri": "https://localhost:8080/"
        },
        "id": "Ab0VWnIowFPm",
        "outputId": "2e6010bb-1b1f-4240-d6af-b469355f2832"
      },
      "execution_count": null,
      "outputs": [
        {
          "output_type": "execute_result",
          "data": {
            "text/plain": [
              "['modelfix']"
            ]
          },
          "metadata": {},
          "execution_count": 40
        }
      ]
    },
    {
      "cell_type": "code",
      "source": [
        "import pickle\n",
        "\n",
        "with open('model','wb') as r:\n",
        "  pickle.dump(model,r)"
      ],
      "metadata": {
        "id": "cAj5MqnHaqQc"
      },
      "execution_count": null,
      "outputs": []
    },
    {
      "cell_type": "code",
      "source": [
        "osas = joblib.load('model')"
      ],
      "metadata": {
        "id": "W1fVBqbib_VL"
      },
      "execution_count": null,
      "outputs": []
    },
    {
      "cell_type": "markdown",
      "source": [
        "##### Cek Load Model"
      ],
      "metadata": {
        "id": "uPWPFgt6rmDF"
      }
    },
    {
      "cell_type": "code",
      "source": [
        "#load .h5\n",
        "model.load_weights(\"model.h5\")\n",
        "print(\"Model Berhasil Di Load\")"
      ],
      "metadata": {
        "id": "4nVJMuzMoXsP",
        "colab": {
          "base_uri": "https://localhost:8080/"
        },
        "outputId": "3252c3b7-49b0-48bc-807f-16d785285cac"
      },
      "execution_count": null,
      "outputs": [
        {
          "output_type": "stream",
          "name": "stdout",
          "text": [
            "Model Berhasil Di Load\n"
          ]
        }
      ]
    },
    {
      "cell_type": "code",
      "source": [
        "#load .pkl\n",
        "model = joblib.load('model.pkl')\n",
        "print(\"Model Berhasil Di Load\")"
      ],
      "metadata": {
        "colab": {
          "base_uri": "https://localhost:8080/"
        },
        "id": "cCB2p88twO-9",
        "outputId": "6ad511d0-a261-4a78-e423-c25cc8138379"
      },
      "execution_count": null,
      "outputs": [
        {
          "output_type": "stream",
          "name": "stdout",
          "text": [
            "Model Berhasil Di Load\n"
          ]
        }
      ]
    },
    {
      "cell_type": "code",
      "source": [
        "modelload = model.load_weights(\"model.h5\")"
      ],
      "metadata": {
        "id": "Z7TZTEnnfQ4C"
      },
      "execution_count": null,
      "outputs": []
    },
    {
      "cell_type": "markdown",
      "metadata": {
        "id": "9cRs1dQmuAQY"
      },
      "source": [
        "## Testing Model"
      ]
    },
    {
      "cell_type": "markdown",
      "metadata": {
        "id": "mfYhw_zsueFI"
      },
      "source": [
        "#### Menyiapkan Dataframe"
      ]
    },
    {
      "cell_type": "code",
      "execution_count": null,
      "metadata": {
        "colab": {
          "base_uri": "https://localhost:8080/",
          "height": 676
        },
        "id": "xRD0bSAG-IG6",
        "outputId": "69cc106f-94d9-47e5-afad-4b1db1b83a80"
      },
      "outputs": [
        {
          "data": {
            "text/html": [
              "\n",
              "  <div id=\"df-ff1fab68-9c55-4fe3-8c51-b7f073e07ee9\">\n",
              "    <div class=\"colab-df-container\">\n",
              "      <div>\n",
              "<style scoped>\n",
              "    .dataframe tbody tr th:only-of-type {\n",
              "        vertical-align: middle;\n",
              "    }\n",
              "\n",
              "    .dataframe tbody tr th {\n",
              "        vertical-align: top;\n",
              "    }\n",
              "\n",
              "    .dataframe thead th {\n",
              "        text-align: right;\n",
              "    }\n",
              "</style>\n",
              "<table border=\"1\" class=\"dataframe\">\n",
              "  <thead>\n",
              "    <tr style=\"text-align: right;\">\n",
              "      <th></th>\n",
              "      <th>id</th>\n",
              "      <th>place_name</th>\n",
              "      <th>category</th>\n",
              "      <th>rating</th>\n",
              "      <th>price</th>\n",
              "      <th>city</th>\n",
              "      <th>lat</th>\n",
              "      <th>long</th>\n",
              "    </tr>\n",
              "  </thead>\n",
              "  <tbody>\n",
              "    <tr>\n",
              "      <th>0</th>\n",
              "      <td>1</td>\n",
              "      <td>Monumen Nasional</td>\n",
              "      <td>Budaya</td>\n",
              "      <td>4.6</td>\n",
              "      <td>20000</td>\n",
              "      <td>Jakarta</td>\n",
              "      <td>-6.175392</td>\n",
              "      <td>106.827153</td>\n",
              "    </tr>\n",
              "    <tr>\n",
              "      <th>1</th>\n",
              "      <td>2</td>\n",
              "      <td>Kota Tua</td>\n",
              "      <td>Budaya</td>\n",
              "      <td>4.6</td>\n",
              "      <td>0</td>\n",
              "      <td>Jakarta</td>\n",
              "      <td>-6.137645</td>\n",
              "      <td>106.817125</td>\n",
              "    </tr>\n",
              "    <tr>\n",
              "      <th>2</th>\n",
              "      <td>3</td>\n",
              "      <td>Dunia Fantasi</td>\n",
              "      <td>Taman Hiburan</td>\n",
              "      <td>4.6</td>\n",
              "      <td>270000</td>\n",
              "      <td>Jakarta</td>\n",
              "      <td>-6.125312</td>\n",
              "      <td>106.833538</td>\n",
              "    </tr>\n",
              "    <tr>\n",
              "      <th>3</th>\n",
              "      <td>4</td>\n",
              "      <td>Taman Mini Indonesia Indah (TMII)</td>\n",
              "      <td>Taman Hiburan</td>\n",
              "      <td>4.5</td>\n",
              "      <td>10000</td>\n",
              "      <td>Jakarta</td>\n",
              "      <td>-6.302446</td>\n",
              "      <td>106.895156</td>\n",
              "    </tr>\n",
              "    <tr>\n",
              "      <th>4</th>\n",
              "      <td>5</td>\n",
              "      <td>Atlantis Water Adventure</td>\n",
              "      <td>Taman Hiburan</td>\n",
              "      <td>4.5</td>\n",
              "      <td>94000</td>\n",
              "      <td>Jakarta</td>\n",
              "      <td>-6.124190</td>\n",
              "      <td>106.839134</td>\n",
              "    </tr>\n",
              "    <tr>\n",
              "      <th>5</th>\n",
              "      <td>6</td>\n",
              "      <td>Taman Impian Jaya Ancol</td>\n",
              "      <td>Taman Hiburan</td>\n",
              "      <td>4.5</td>\n",
              "      <td>25000</td>\n",
              "      <td>Jakarta</td>\n",
              "      <td>-6.117333</td>\n",
              "      <td>106.857995</td>\n",
              "    </tr>\n",
              "    <tr>\n",
              "      <th>6</th>\n",
              "      <td>7</td>\n",
              "      <td>Kebun Binatang Ragunan</td>\n",
              "      <td>Cagar Alam</td>\n",
              "      <td>4.5</td>\n",
              "      <td>4000</td>\n",
              "      <td>Jakarta</td>\n",
              "      <td>-6.312459</td>\n",
              "      <td>106.820187</td>\n",
              "    </tr>\n",
              "    <tr>\n",
              "      <th>7</th>\n",
              "      <td>8</td>\n",
              "      <td>Ocean Ecopark</td>\n",
              "      <td>Taman Hiburan</td>\n",
              "      <td>4.0</td>\n",
              "      <td>180000</td>\n",
              "      <td>Jakarta</td>\n",
              "      <td>-6.125802</td>\n",
              "      <td>106.836325</td>\n",
              "    </tr>\n",
              "    <tr>\n",
              "      <th>8</th>\n",
              "      <td>9</td>\n",
              "      <td>Pelabuhan Marina</td>\n",
              "      <td>Bahari</td>\n",
              "      <td>4.4</td>\n",
              "      <td>175000</td>\n",
              "      <td>Jakarta</td>\n",
              "      <td>1.078880</td>\n",
              "      <td>103.931398</td>\n",
              "    </tr>\n",
              "    <tr>\n",
              "      <th>9</th>\n",
              "      <td>10</td>\n",
              "      <td>Pulau Tidung</td>\n",
              "      <td>Bahari</td>\n",
              "      <td>4.5</td>\n",
              "      <td>150000</td>\n",
              "      <td>Jakarta</td>\n",
              "      <td>-5.803205</td>\n",
              "      <td>106.523791</td>\n",
              "    </tr>\n",
              "    <tr>\n",
              "      <th>10</th>\n",
              "      <td>11</td>\n",
              "      <td>Pulau Bidadari</td>\n",
              "      <td>Bahari</td>\n",
              "      <td>4.6</td>\n",
              "      <td>5000</td>\n",
              "      <td>Jakarta</td>\n",
              "      <td>-6.035833</td>\n",
              "      <td>106.746944</td>\n",
              "    </tr>\n",
              "    <tr>\n",
              "      <th>11</th>\n",
              "      <td>12</td>\n",
              "      <td>Pulau Pari</td>\n",
              "      <td>Bahari</td>\n",
              "      <td>4.0</td>\n",
              "      <td>150000</td>\n",
              "      <td>Jakarta</td>\n",
              "      <td>-5.907433</td>\n",
              "      <td>106.586399</td>\n",
              "    </tr>\n",
              "    <tr>\n",
              "      <th>12</th>\n",
              "      <td>13</td>\n",
              "      <td>Pulau Pramuka</td>\n",
              "      <td>Bahari</td>\n",
              "      <td>4.2</td>\n",
              "      <td>5000</td>\n",
              "      <td>Jakarta</td>\n",
              "      <td>-5.745962</td>\n",
              "      <td>106.613658</td>\n",
              "    </tr>\n",
              "    <tr>\n",
              "      <th>13</th>\n",
              "      <td>14</td>\n",
              "      <td>Pulau Pelangi</td>\n",
              "      <td>Bahari</td>\n",
              "      <td>4.8</td>\n",
              "      <td>900000</td>\n",
              "      <td>Jakarta</td>\n",
              "      <td>-5.587055</td>\n",
              "      <td>106.588500</td>\n",
              "    </tr>\n",
              "    <tr>\n",
              "      <th>14</th>\n",
              "      <td>15</td>\n",
              "      <td>Pasar Seni</td>\n",
              "      <td>Pusat Perbelanjaan</td>\n",
              "      <td>4.4</td>\n",
              "      <td>0</td>\n",
              "      <td>Jakarta</td>\n",
              "      <td>-6.176687</td>\n",
              "      <td>106.841767</td>\n",
              "    </tr>\n",
              "    <tr>\n",
              "      <th>15</th>\n",
              "      <td>16</td>\n",
              "      <td>Jembatan Kota Intan</td>\n",
              "      <td>Budaya</td>\n",
              "      <td>4.3</td>\n",
              "      <td>0</td>\n",
              "      <td>Jakarta</td>\n",
              "      <td>-6.131457</td>\n",
              "      <td>106.810617</td>\n",
              "    </tr>\n",
              "    <tr>\n",
              "      <th>16</th>\n",
              "      <td>17</td>\n",
              "      <td>Museum Fatahillah</td>\n",
              "      <td>Budaya</td>\n",
              "      <td>4.4</td>\n",
              "      <td>5000</td>\n",
              "      <td>Jakarta</td>\n",
              "      <td>-6.136449</td>\n",
              "      <td>106.813066</td>\n",
              "    </tr>\n",
              "    <tr>\n",
              "      <th>17</th>\n",
              "      <td>18</td>\n",
              "      <td>Museum Bank Indonesia</td>\n",
              "      <td>Budaya</td>\n",
              "      <td>4.7</td>\n",
              "      <td>2000</td>\n",
              "      <td>Jakarta</td>\n",
              "      <td>-6.137127</td>\n",
              "      <td>106.813005</td>\n",
              "    </tr>\n",
              "    <tr>\n",
              "      <th>18</th>\n",
              "      <td>19</td>\n",
              "      <td>Kidzania</td>\n",
              "      <td>Taman Hiburan</td>\n",
              "      <td>4.6</td>\n",
              "      <td>185000</td>\n",
              "      <td>Jakarta</td>\n",
              "      <td>-6.225073</td>\n",
              "      <td>106.809714</td>\n",
              "    </tr>\n",
              "    <tr>\n",
              "      <th>19</th>\n",
              "      <td>20</td>\n",
              "      <td>Museum Taman Prasasti</td>\n",
              "      <td>Budaya</td>\n",
              "      <td>4.5</td>\n",
              "      <td>2000</td>\n",
              "      <td>Jakarta</td>\n",
              "      <td>-6.172224</td>\n",
              "      <td>106.818969</td>\n",
              "    </tr>\n",
              "  </tbody>\n",
              "</table>\n",
              "</div>\n",
              "      <button class=\"colab-df-convert\" onclick=\"convertToInteractive('df-ff1fab68-9c55-4fe3-8c51-b7f073e07ee9')\"\n",
              "              title=\"Convert this dataframe to an interactive table.\"\n",
              "              style=\"display:none;\">\n",
              "        \n",
              "  <svg xmlns=\"http://www.w3.org/2000/svg\" height=\"24px\"viewBox=\"0 0 24 24\"\n",
              "       width=\"24px\">\n",
              "    <path d=\"M0 0h24v24H0V0z\" fill=\"none\"/>\n",
              "    <path d=\"M18.56 5.44l.94 2.06.94-2.06 2.06-.94-2.06-.94-.94-2.06-.94 2.06-2.06.94zm-11 1L8.5 8.5l.94-2.06 2.06-.94-2.06-.94L8.5 2.5l-.94 2.06-2.06.94zm10 10l.94 2.06.94-2.06 2.06-.94-2.06-.94-.94-2.06-.94 2.06-2.06.94z\"/><path d=\"M17.41 7.96l-1.37-1.37c-.4-.4-.92-.59-1.43-.59-.52 0-1.04.2-1.43.59L10.3 9.45l-7.72 7.72c-.78.78-.78 2.05 0 2.83L4 21.41c.39.39.9.59 1.41.59.51 0 1.02-.2 1.41-.59l7.78-7.78 2.81-2.81c.8-.78.8-2.07 0-2.86zM5.41 20L4 18.59l7.72-7.72 1.47 1.35L5.41 20z\"/>\n",
              "  </svg>\n",
              "      </button>\n",
              "      \n",
              "  <style>\n",
              "    .colab-df-container {\n",
              "      display:flex;\n",
              "      flex-wrap:wrap;\n",
              "      gap: 12px;\n",
              "    }\n",
              "\n",
              "    .colab-df-convert {\n",
              "      background-color: #E8F0FE;\n",
              "      border: none;\n",
              "      border-radius: 50%;\n",
              "      cursor: pointer;\n",
              "      display: none;\n",
              "      fill: #1967D2;\n",
              "      height: 32px;\n",
              "      padding: 0 0 0 0;\n",
              "      width: 32px;\n",
              "    }\n",
              "\n",
              "    .colab-df-convert:hover {\n",
              "      background-color: #E2EBFA;\n",
              "      box-shadow: 0px 1px 2px rgba(60, 64, 67, 0.3), 0px 1px 3px 1px rgba(60, 64, 67, 0.15);\n",
              "      fill: #174EA6;\n",
              "    }\n",
              "\n",
              "    [theme=dark] .colab-df-convert {\n",
              "      background-color: #3B4455;\n",
              "      fill: #D2E3FC;\n",
              "    }\n",
              "\n",
              "    [theme=dark] .colab-df-convert:hover {\n",
              "      background-color: #434B5C;\n",
              "      box-shadow: 0px 1px 3px 1px rgba(0, 0, 0, 0.15);\n",
              "      filter: drop-shadow(0px 1px 2px rgba(0, 0, 0, 0.3));\n",
              "      fill: #FFFFFF;\n",
              "    }\n",
              "  </style>\n",
              "\n",
              "      <script>\n",
              "        const buttonEl =\n",
              "          document.querySelector('#df-ff1fab68-9c55-4fe3-8c51-b7f073e07ee9 button.colab-df-convert');\n",
              "        buttonEl.style.display =\n",
              "          google.colab.kernel.accessAllowed ? 'block' : 'none';\n",
              "\n",
              "        async function convertToInteractive(key) {\n",
              "          const element = document.querySelector('#df-ff1fab68-9c55-4fe3-8c51-b7f073e07ee9');\n",
              "          const dataTable =\n",
              "            await google.colab.kernel.invokeFunction('convertToInteractive',\n",
              "                                                     [key], {});\n",
              "          if (!dataTable) return;\n",
              "\n",
              "          const docLinkHtml = 'Like what you see? Visit the ' +\n",
              "            '<a target=\"_blank\" href=https://colab.research.google.com/notebooks/data_table.ipynb>data table notebook</a>'\n",
              "            + ' to learn more about interactive tables.';\n",
              "          element.innerHTML = '';\n",
              "          dataTable['output_type'] = 'display_data';\n",
              "          await google.colab.output.renderOutput(dataTable, element);\n",
              "          const docLink = document.createElement('div');\n",
              "          docLink.innerHTML = docLinkHtml;\n",
              "          element.appendChild(docLink);\n",
              "        }\n",
              "      </script>\n",
              "    </div>\n",
              "  </div>\n",
              "  "
            ],
            "text/plain": [
              "    id                         place_name            category  rating   price  \\\n",
              "0    1                   Monumen Nasional              Budaya     4.6   20000   \n",
              "1    2                           Kota Tua              Budaya     4.6       0   \n",
              "2    3                      Dunia Fantasi       Taman Hiburan     4.6  270000   \n",
              "3    4  Taman Mini Indonesia Indah (TMII)       Taman Hiburan     4.5   10000   \n",
              "4    5           Atlantis Water Adventure       Taman Hiburan     4.5   94000   \n",
              "5    6            Taman Impian Jaya Ancol       Taman Hiburan     4.5   25000   \n",
              "6    7             Kebun Binatang Ragunan          Cagar Alam     4.5    4000   \n",
              "7    8                      Ocean Ecopark       Taman Hiburan     4.0  180000   \n",
              "8    9                   Pelabuhan Marina              Bahari     4.4  175000   \n",
              "9   10                       Pulau Tidung              Bahari     4.5  150000   \n",
              "10  11                     Pulau Bidadari              Bahari     4.6    5000   \n",
              "11  12                         Pulau Pari              Bahari     4.0  150000   \n",
              "12  13                      Pulau Pramuka              Bahari     4.2    5000   \n",
              "13  14                      Pulau Pelangi              Bahari     4.8  900000   \n",
              "14  15                         Pasar Seni  Pusat Perbelanjaan     4.4       0   \n",
              "15  16                Jembatan Kota Intan              Budaya     4.3       0   \n",
              "16  17                  Museum Fatahillah              Budaya     4.4    5000   \n",
              "17  18              Museum Bank Indonesia              Budaya     4.7    2000   \n",
              "18  19                           Kidzania       Taman Hiburan     4.6  185000   \n",
              "19  20              Museum Taman Prasasti              Budaya     4.5    2000   \n",
              "\n",
              "       city       lat        long  \n",
              "0   Jakarta -6.175392  106.827153  \n",
              "1   Jakarta -6.137645  106.817125  \n",
              "2   Jakarta -6.125312  106.833538  \n",
              "3   Jakarta -6.302446  106.895156  \n",
              "4   Jakarta -6.124190  106.839134  \n",
              "5   Jakarta -6.117333  106.857995  \n",
              "6   Jakarta -6.312459  106.820187  \n",
              "7   Jakarta -6.125802  106.836325  \n",
              "8   Jakarta  1.078880  103.931398  \n",
              "9   Jakarta -5.803205  106.523791  \n",
              "10  Jakarta -6.035833  106.746944  \n",
              "11  Jakarta -5.907433  106.586399  \n",
              "12  Jakarta -5.745962  106.613658  \n",
              "13  Jakarta -5.587055  106.588500  \n",
              "14  Jakarta -6.176687  106.841767  \n",
              "15  Jakarta -6.131457  106.810617  \n",
              "16  Jakarta -6.136449  106.813066  \n",
              "17  Jakarta -6.137127  106.813005  \n",
              "18  Jakarta -6.225073  106.809714  \n",
              "19  Jakarta -6.172224  106.818969  "
            ]
          },
          "execution_count": 42,
          "metadata": {},
          "output_type": "execute_result"
        }
      ],
      "source": [
        "place_df = place[['Place_Id','Place_Name','Category','Rating','Price', 'City', 'Lat', 'Long']]\n",
        "place_df.columns = ['id','place_name','category','rating','price', 'city', 'lat', 'long']\n",
        "place_df[:20] #Cek isi place_df\n",
        "#df = rating.copy()"
      ]
    },
    {
      "cell_type": "markdown",
      "metadata": {
        "id": "V8LuQBhBuloZ"
      },
      "source": [
        "#### Mengambil Sample User"
      ]
    },
    {
      "cell_type": "code",
      "execution_count": null,
      "metadata": {
        "id": "lwsPmly--IJt"
      },
      "outputs": [],
      "source": [
        "user_id = df.User_Id.sample(1).iloc[0]\n",
        "place_visited_by_user = df[df.User_Id == user_id]"
      ]
    },
    {
      "cell_type": "markdown",
      "metadata": {
        "id": "qa7PsfmNusIi"
      },
      "source": [
        "#### Cek wisata yang belum dikunjungi"
      ]
    },
    {
      "cell_type": "code",
      "execution_count": null,
      "metadata": {
        "id": "7aGoSx-D-IMl"
      },
      "outputs": [],
      "source": [
        "# Membuat data lokasi yang belum dikunjungi user\n",
        "place_not_visited = place_df[~place_df['id'].isin(place_visited_by_user.Place_Id.values)]['id']\n",
        "place_not_visited = list(\n",
        "    set(place_not_visited)\n",
        "    .intersection(set(place_to_place_encoded.keys()))\n",
        ")\n",
        "\n",
        "place_not_visited = [[place_to_place_encoded.get(x)] for x in place_not_visited]\n",
        "user_encoder = user_to_user_encoded.get(user_id)\n",
        "user_place_array = np.hstack(\n",
        "    ([[user_encoder]] * len(place_not_visited), place_not_visited)\n",
        ")"
      ]
    },
    {
      "cell_type": "markdown",
      "metadata": {
        "id": "KE4GqlZwuyJq"
      },
      "source": [
        "#### Print Output Rekomendasi"
      ]
    },
    {
      "cell_type": "code",
      "execution_count": null,
      "metadata": {
        "colab": {
          "base_uri": "https://localhost:8080/"
        },
        "id": "tSuujrbmqG1Q",
        "outputId": "587955be-499e-4740-e21b-69fced8a4ec2"
      },
      "outputs": [
        {
          "name": "stdout",
          "output_type": "stream",
          "text": [
            "Input lama hari berkunjung : 2\n",
            "6\n"
          ]
        }
      ],
      "source": [
        "hari = int(input(\"Input lama hari berkunjung : \"))\n",
        "\n",
        "# 1 hari berwisata => berkunjung ke 3 tempat\n",
        "hari_h = hari * 3\n",
        "\n",
        "print(hari_h)"
      ]
    },
    {
      "cell_type": "code",
      "execution_count": null,
      "metadata": {
        "colab": {
          "base_uri": "https://localhost:8080/"
        },
        "id": "l6YAsxv_-IO8",
        "outputId": "58145aa1-065c-47b7-9023-a050e7adf4a8"
      },
      "outputs": [
        {
          "name": "stdout",
          "output_type": "stream",
          "text": [
            "4/4 [==============================] - 0s 4ms/step\n",
            "Daftar rekomendasi untuk: User 56\n",
            "============================================= \n",
            "\n",
            "------------------------------------------------------------\n",
            "Tempat dengan rating wisata paling tinggi dari user\n",
            "------------------------------------------------------------\n",
            "Tugu Pal Putih Jogja : Taman Hiburan : Yogyakarta\n",
            "Grojogan Watu Purbo Bangunrejo : Taman Hiburan : Yogyakarta\n",
            "Goa Cerme : Cagar Alam : Yogyakarta\n",
            "Candi Borobudur : Budaya : Yogyakarta\n",
            "Pantai Glagah : Bahari : Yogyakarta\n",
            "\n",
            "------------------------------------------------------------\n",
            "1 . Nol Kilometer Jl.Malioboro \n",
            " Kategori Wisata :  Taman Hiburan \n",
            " Harga Tiket Masuk :  0 \n",
            " Rating Wisata :  4.7 \n",
            " Lokasi Wisata :  Yogyakarta \n",
            " Lat :  -7.8013803 \n",
            " Long :  110.3647652\n",
            "2 . Sumur Gumuling \n",
            " Kategori Wisata :  Taman Hiburan \n",
            " Harga Tiket Masuk :  7000 \n",
            " Rating Wisata :  4.5 \n",
            " Lokasi Wisata :  Yogyakarta \n",
            " Lat :  -7.8087911 \n",
            " Long :  110.3591825\n",
            "3 . Monumen Sanapati \n",
            " Kategori Wisata :  Budaya \n",
            " Harga Tiket Masuk :  15000 \n",
            " Rating Wisata :  4.3 \n",
            " Lokasi Wisata :  Yogyakarta \n",
            " Lat :  -7.7881728 \n",
            " Long :  110.3715403\n",
            "4 . Jurang Tembelan Kanigoro \n",
            " Kategori Wisata :  Taman Hiburan \n",
            " Harga Tiket Masuk :  2500 \n",
            " Rating Wisata :  4.5 \n",
            " Lokasi Wisata :  Yogyakarta \n",
            " Lat :  -7.9401065 \n",
            " Long :  110.4300062\n",
            "5 . Bukit Panguk Kediwung \n",
            " Kategori Wisata :  Budaya \n",
            " Harga Tiket Masuk :  250000 \n",
            " Rating Wisata :  4.5 \n",
            " Lokasi Wisata :  Yogyakarta \n",
            " Lat :  -7.9583695 \n",
            " Long :  110.4407622\n",
            "6 . Desa Wisata Tembi \n",
            " Kategori Wisata :  Taman Hiburan \n",
            " Harga Tiket Masuk :  50000 \n",
            " Rating Wisata :  4.5 \n",
            " Lokasi Wisata :  Yogyakarta \n",
            " Lat :  -7.8725673 \n",
            " Long :  110.3546963\n",
            "=============================================\n"
          ]
        }
      ],
      "source": [
        "# Mengambil data rekomendasi\n",
        "ratings = model.predict(user_place_array).flatten()\n",
        "top_ratings_indices = ratings.argsort()[-hari_h:][::-1]\n",
        "recommended_place_ids = [\n",
        "    place_encoded_to_place.get(place_not_visited[x][0]) for x in top_ratings_indices\n",
        "]\n",
        "\n",
        "\n",
        "#Menampilkan data wisata yang di sukai user\n",
        "print('Daftar rekomendasi untuk: {}'.format('User ' + str(user_id)))\n",
        "print('===' * 15,'\\n')\n",
        "print('----' * 15)\n",
        "print('Tempat dengan rating wisata paling tinggi dari user')\n",
        "print('----' * 15)\n",
        "\n",
        "top_place_user = (\n",
        "    place_visited_by_user.sort_values(by = 'Place_Ratings', ascending=False).head(5).Place_Id.values\n",
        ")\n",
        "place_df_rows = place_df[place_df['id'].isin(top_place_user)]\n",
        "for row in place_df_rows.itertuples():\n",
        "    print(row.place_name, ':', row.category, ':', row.city )\n",
        "\n",
        "#Menampilkan data wisata rekomendasi untuk user\n",
        "print('')\n",
        "print('----' * 15)\n",
        "\n",
        "recommended_place = place_df[place_df['id'].isin(recommended_place_ids)]\n",
        "for row, i in zip(recommended_place.itertuples(), range(1,14)):\n",
        "    print(i,'.', row.place_name, '\\n', 'Kategori Wisata : ', row.category, '\\n', 'Harga Tiket Masuk : ', row.price, '\\n', 'Rating Wisata : ', row.rating, '\\n', 'Lokasi Wisata : ', row.city, '\\n', 'Lat : ', row.lat, '\\n', 'Long : ', row.long)\n",
        "\n",
        "print('==='*15)\n"
      ]
    },
    {
      "cell_type": "code",
      "execution_count": null,
      "metadata": {
        "id": "YlmqraScfNnk"
      },
      "outputs": [],
      "source": [
        "from google.colab import drive\n",
        "drive.mount('/content/drive')"
      ]
    }
  ],
  "metadata": {
    "colab": {
      "provenance": []
    },
    "kernelspec": {
      "display_name": "Python 3",
      "name": "python3"
    },
    "language_info": {
      "name": "python"
    }
  },
  "nbformat": 4,
  "nbformat_minor": 0
}